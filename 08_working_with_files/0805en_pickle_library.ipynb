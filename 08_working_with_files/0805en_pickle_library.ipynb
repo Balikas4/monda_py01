{
 "cells": [
  {
   "cell_type": "markdown",
   "metadata": {},
   "source": [
    "# Pickle Library for Object Serialization\n",
    "\n",
    "Python provides the `pickle` library as part of its standard library, which is used for object serialization and deserialization. Serialization is the process of converting objects into a byte stream, allowing them to be stored on disk or transmitted over a network. Deserialization is the reverse process of converting a byte stream back into an object.\n",
    "\n",
    "## Storing and Reading Variables with Pickle\n",
    "\n",
    "```python\n",
    "import pickle\n",
    "\n",
    "# Storing a variable (serialization)\n",
    "variable = 42\n",
    "\n",
    "with open('variable.pickle', 'wb') as file:\n",
    "    pickle.dump(variable, file)\n",
    "\n",
    "# Reading a variable (deserialization)\n",
    "with open('variable.pickle', 'rb') as file:\n",
    "    loaded_variable = pickle.load(file)\n",
    "\n",
    "print(loaded_variable)  # Outputs: 42"
   ]
  },
  {
   "cell_type": "markdown",
   "metadata": {},
   "source": [
    ">In the code above, we use `pickle.dump()` to store (serialize) the variable \"variable\" into the opened file. \n",
    ">>Serialization converts an object into a byte sequence that can be saved to disk. Then, we use `pickle.load()` to read (deserialize) the variable from the opened file. \n",
    ">>>Deserialization converts the byte sequence back into an object."
   ]
  },
  {
   "cell_type": "markdown",
   "metadata": {},
   "source": [
    "## Storing and Reading Lists and Dictionaries"
   ]
  },
  {
   "cell_type": "code",
   "execution_count": null,
   "metadata": {},
   "outputs": [],
   "source": [
    "import pickle\n",
    "\n",
    "# Storing a list (serialization)\n",
    "my_list = [1, 2, 3, 4, 5]\n",
    "\n",
    "with open('my_list.pickle', 'wb') as file:\n",
    "    pickle.dump(my_list, file)\n",
    "\n",
    "# Reading a list (deserialization)\n",
    "with open('my_list.pickle', 'rb') as file:\n",
    "    loaded_list = pickle.load(file)\n",
    "\n",
    "print(loaded_list)  # Outputs: [1, 2, 3, 4, 5]\n",
    "\n",
    "# Storing a dictionary (serialization)\n",
    "my_dict = {'a': 1, 'b': 2, 'c': 3}\n",
    "\n",
    "with open('my_dict.pickle', 'wb') as file:\n",
    "    pickle.dump(my_dict, file)\n",
    "\n",
    "# Reading a dictionary (deserialization)\n",
    "with open('my_dict.pickle', 'rb') as file:\n",
    "    loaded_dict = pickle.load(file)\n",
    "\n",
    "print(loaded_dict)  # Outputs: {'a': 1, 'b': 2, 'c': 3}\n"
   ]
  },
  {
   "cell_type": "markdown",
   "metadata": {},
   "source": [
    ">In the code above, we demonstrate how to serialize and deserialize lists and dictionaries using the `pickle` library."
   ]
  },
  {
   "cell_type": "markdown",
   "metadata": {},
   "source": [
    "## Storing and Reading Objects"
   ]
  },
  {
   "cell_type": "code",
   "execution_count": null,
   "metadata": {},
   "outputs": [],
   "source": [
    "import pickle\n",
    "\n",
    "class Person:\n",
    "    def __init__(self, name, age):\n",
    "        self.name = name\n",
    "        self.age = age\n",
    "\n",
    "    def __str__(self):\n",
    "        return f\"{self.name}, {self.age} years old\"\n",
    "\n",
    "# Storing an object (serialization)\n",
    "person = Person(\"John\", 30)\n",
    "\n",
    "with open('person.pickle', 'wb') as file:\n",
    "    pickle.dump(person, file)\n",
    "\n",
    "# Reading an object (deserialization)\n",
    "with open('person.pickle', 'rb') as file:\n",
    "    loaded_person = pickle.load(file)\n",
    "\n",
    "print(loaded_person)  # Outputs: John, 30 years old\n"
   ]
  },
  {
   "cell_type": "markdown",
   "metadata": {},
   "source": [
    ">In this code, we demonstrate how to serialize and deserialize objects using the `pickle` library. \n",
    ">>We define a custom class `Person` and show how to store and read objects of this class."
   ]
  },
  {
   "cell_type": "markdown",
   "metadata": {},
   "source": [
    "# `Assignment: Enhance the budget`\n",
    "\n",
    "Enhance the budget program to read income/expense records from a pickle file when the program is opened, and when closing the program, update the journal's pickle file with the latest information. \n",
    "\n",
    "**Note** that journal entries are objects and should not be directly saved in the JSON file."
   ]
  },
  {
   "cell_type": "code",
   "execution_count": null,
   "metadata": {},
   "outputs": [],
   "source": [
    "#DONE"
   ]
  }
 ],
 "metadata": {
  "language_info": {
   "name": "python"
  }
 },
 "nbformat": 4,
 "nbformat_minor": 2
}
