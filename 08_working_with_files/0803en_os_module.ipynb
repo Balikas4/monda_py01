{
 "cells": [
  {
   "cell_type": "markdown",
   "metadata": {},
   "source": [
    "# Python `os` Module\n",
    "\n",
    "The `os` module is a standard Python library module that provides functions and capabilities to interact with the operating system's functions. It allows you to work with the file system, directory structure, processes, environment variables, and more.\n",
    "\n",
    "## Navigating the Directory Tree\n",
    "\n",
    "- `os.getcwd()`: Returns the path of the current working directory.\n",
    "- `os.chdir(path)`: Changes the current working directory to the specified path.\n",
    "\n",
    "**Example:**"
   ]
  },
  {
   "cell_type": "code",
   "execution_count": 25,
   "metadata": {},
   "outputs": [
    {
     "name": "stdout",
     "output_type": "stream",
     "text": [
      "Current working directory: d:\\CodeAcademy\\monda_py01\\08_working_with_files\n"
     ]
    },
    {
     "ename": "FileNotFoundError",
     "evalue": "[WinError 2] The system cannot find the file specified: '/new_directory'",
     "output_type": "error",
     "traceback": [
      "\u001b[1;31m---------------------------------------------------------------------------\u001b[0m",
      "\u001b[1;31mFileNotFoundError\u001b[0m                         Traceback (most recent call last)",
      "Cell \u001b[1;32mIn[25], line 7\u001b[0m\n\u001b[0;32m      4\u001b[0m \u001b[38;5;28mprint\u001b[39m(\u001b[38;5;124m\"\u001b[39m\u001b[38;5;124mCurrent working directory:\u001b[39m\u001b[38;5;124m\"\u001b[39m, os\u001b[38;5;241m.\u001b[39mgetcwd())\n\u001b[0;32m      6\u001b[0m \u001b[38;5;66;03m# Change the working directory to another directory\u001b[39;00m\n\u001b[1;32m----> 7\u001b[0m \u001b[43mos\u001b[49m\u001b[38;5;241;43m.\u001b[39;49m\u001b[43mchdir\u001b[49m\u001b[43m(\u001b[49m\u001b[38;5;124;43m'\u001b[39;49m\u001b[38;5;124;43m/new_directory\u001b[39;49m\u001b[38;5;124;43m'\u001b[39;49m\u001b[43m)\u001b[49m\n\u001b[0;32m      8\u001b[0m \u001b[38;5;28mprint\u001b[39m(\u001b[38;5;124m\"\u001b[39m\u001b[38;5;124mCurrent working directory:\u001b[39m\u001b[38;5;124m\"\u001b[39m, os\u001b[38;5;241m.\u001b[39mgetcwd())\n",
      "\u001b[1;31mFileNotFoundError\u001b[0m: [WinError 2] The system cannot find the file specified: '/new_directory'"
     ]
    }
   ],
   "source": [
    "import os\n",
    "\n",
    "# Get the current working directory\n",
    "print(\"Current working directory:\", os.getcwd())\n",
    "\n",
    "# Change the working directory to another directory\n",
    "os.chdir('/new_directory')\n",
    "print(\"Current working directory:\", os.getcwd())"
   ]
  },
  {
   "cell_type": "markdown",
   "metadata": {},
   "source": [
    "## Checking File Existence\n",
    "The os.path module provides functions to check the existence of files and directories.\n",
    "\n",
    "- `os.path.exists(path)`: Returns True if the specified path exists, and False otherwise.\n",
    "\n",
    "Example:"
   ]
  },
  {
   "cell_type": "code",
   "execution_count": null,
   "metadata": {},
   "outputs": [],
   "source": [
    "import os\n",
    "\n",
    "file_path = 'example.txt'\n",
    "if os.path.exists(file_path):\n",
    "    print(f\"File '{file_path}' exists.\")\n",
    "else:\n",
    "    print(f\"File '{file_path}' does not exist.\")\n"
   ]
  },
  {
   "cell_type": "markdown",
   "metadata": {},
   "source": [
    "## Creating Directories\n",
    "`os.makedirs(path)`: Creates the entire directory tree if it does not exist.\n",
    "\n",
    "Example:"
   ]
  },
  {
   "cell_type": "code",
   "execution_count": null,
   "metadata": {},
   "outputs": [],
   "source": [
    "import os\n",
    "\n",
    "directory_path = 'new_directory/subdirectory'\n",
    "if not os.path.exists(directory_path):\n",
    "    os.makedirs(directory_path)\n",
    "    print(f\"Directory '{directory_path}' created.\")\n",
    "else:\n",
    "    print(f\"Directory '{directory_path}' already exists.\")\n"
   ]
  },
  {
   "cell_type": "markdown",
   "metadata": {},
   "source": [
    "## `Quick Assignment 1: Creating a Directory`\n",
    "\n",
    "**Task Description:**  \n",
    "1. Create a new directory named \"My_Directory\" in your current working directory. \n",
    "1. Check if the directory was successfully created and print the result."
   ]
  },
  {
   "cell_type": "code",
   "execution_count": null,
   "metadata": {},
   "outputs": [],
   "source": [
    "import os\n",
    "\n",
    "os.chdir(\"d:\\\\CodeAcademy\\\\monda_py01\")\n",
    "directory_path = 'd:\\\\CodeAcademy\\\\monda_py01\\\\08_working_with_files'\n",
    "print(\"Current working directory:\", os.getcwd())\n",
    "\n",
    "# Change the working directory to another directory\n",
    "os.chdir(directory_path)\n",
    "print(\"Current working directory:\", os.getcwd())"
   ]
  },
  {
   "cell_type": "markdown",
   "metadata": {},
   "source": [
    "## Deleting Files\n",
    "The `os.remove(path)` function allows you to delete a specified file. It takes one argument, which is the file path.\n",
    "\n",
    "Example:"
   ]
  },
  {
   "cell_type": "code",
   "execution_count": null,
   "metadata": {},
   "outputs": [],
   "source": [
    "import os\n",
    "\n",
    "file_path = 'example.txt'\n",
    "\n",
    "if os.path.exists(file_path):\n",
    "    os.remove(file_path)\n",
    "    print(f\"File '{file_path}' deleted.\")\n",
    "else:\n",
    "    print(f\"File '{file_path}' does not exist.\")\n"
   ]
  },
  {
   "cell_type": "markdown",
   "metadata": {},
   "source": [
    "## Deleting Directories\n",
    "`os.rmdir(path)`: Deletes the specified directory. The directory must be empty, or this function will raise an error.\n",
    "\n",
    "Example:"
   ]
  },
  {
   "cell_type": "code",
   "execution_count": null,
   "metadata": {},
   "outputs": [],
   "source": [
    "import os\n",
    "\n",
    "directory_path = 'new_directory'\n",
    "\n",
    "if os.path.exists(directory_path):\n",
    "    if not os.listdir(directory_path):\n",
    "        os.rmdir(directory_path)\n",
    "        print(f\"Directory '{directory_path}' deleted.\")\n",
    "    else:\n",
    "        print(f\"Directory '{directory_path}' is not empty.\")\n",
    "else:\n",
    "    print(f\"Directory '{directory_path}' does not exist.\")\n"
   ]
  },
  {
   "cell_type": "markdown",
   "metadata": {},
   "source": [
    "## Deleting an Entire Directory Tree\n",
    "`os.removedirs(path)`: Allows you to delete the entire directory tree if every directory in the path is empty.\n",
    "\n",
    "Example:"
   ]
  },
  {
   "cell_type": "code",
   "execution_count": null,
   "metadata": {},
   "outputs": [],
   "source": [
    "import os\n",
    "\n",
    "directory_tree_path = 'new_directory/subdirectory'\n",
    "\n",
    "if os.path.exists(directory_tree_path):\n",
    "    os.removedirs(directory_tree_path)\n",
    "    print(f\"Directory tree '{directory_tree_path}' deleted.\")\n",
    "else:\n",
    "    print(f\"Directory tree '{directory_tree_path}' does not exist.\")\n"
   ]
  },
  {
   "cell_type": "markdown",
   "metadata": {},
   "source": [
    "## Listing Directory Contents\n",
    "The `os.listdir` function is used to retrieve the contents of a directory as a list. It returns a list of all the elements in the directory.\n",
    "\n",
    "Example:"
   ]
  },
  {
   "cell_type": "code",
   "execution_count": null,
   "metadata": {},
   "outputs": [],
   "source": [
    "import os\n",
    "\n",
    "directory_path = '.'  # Your current directory\n",
    "contents = os.listdir(directory_path)\n",
    "\n",
    "print(\"Directory Contents:\")\n",
    "for element in contents:\n",
    "    print(element)\n"
   ]
  },
  {
   "cell_type": "markdown",
   "metadata": {},
   "source": [
    "## `Quick Assignment 2: Listing Files and Directories`\n",
    "\n",
    "**Task Description:**  \n",
    "1. Write a program that would examine the current working directory\n",
    "1. Print all the found files and directories."
   ]
  },
  {
   "cell_type": "code",
   "execution_count": null,
   "metadata": {},
   "outputs": [],
   "source": [
    "import os\n",
    "\n",
    "directory_path = '.'  \n",
    "contents = os.listdir(directory_path)\n",
    "\n",
    "print(\"Directory Contents:\")\n",
    "for element in contents:\n",
    "    print(element)\n"
   ]
  },
  {
   "cell_type": "markdown",
   "metadata": {},
   "source": [
    "## Getting File and Directory Information\n",
    "\n",
    "The `os.stat` function is used to retrieve information about a file or directory, such as size, modification time, and more. It returns an `os.stat_result` object with various attributes:\n",
    "\n",
    "- `st_mode`: These are the file protection bits that specify the file type and permissions. It is used to determine the file type (e.g., regular file, directory, symbolic link) and permissions (read, write, execute).\n",
    "\n",
    "- `st_ino`: Inode number is a unique file identifier in the file system, used in Unix-like systems. Windows does not support this attribute, and `os.stat` returns it with a value of 0.\n",
    "\n",
    "- `st_dev`: Device identifier where the file resides.\n",
    "\n",
    "- `st_nlink`: The number of hard links to the file or directory. Typically, this is 1 for files and can be greater for directories.\n",
    "\n",
    "- `st_uid`: User ID used in Unix-like systems to identify the owner of the file or directory. Windows does not support this attribute, and `os.stat` returns it with a value of 0.\n",
    "\n",
    "- `st_gid`: Group ID used in Unix-like systems to identify the file or directory's owning group. Windows does not support this attribute, and `os.stat` returns it with a value of 0.\n",
    "\n",
    "- `st_size`: File size in bytes. This size is not applicable to directories.\n",
    "\n",
    "- `st_atime`: The time of the last access to the file or directory, indicating when it was last read. The time is given in seconds since the epoch (1970-01-01 00:00:00 UTC).\n",
    "\n",
    "- `st_mtime`: The time of the last modification of the file or directory, indicating when it was last changed. The time is given in seconds since the epoch (1970-01-01 00:00:00 UTC).\n",
    "\n",
    "- `st_ctime`: The time of the last change to the file or directory's status, including changes to permissions, links, or size. The time is given in seconds since the epoch (1970-01-01 00:00:00 UTC).\n",
    "\n",
    "- `st_blksize`: Block size in bytes, used primarily in Linux systems to manage file or directory storage more efficiently. macOS and Windows do not support this attribute.\n",
    "\n",
    "- `st_blocks`: The number of blocks occupied by the file or directory, primarily used in Linux systems for storage management. macOS and Windows do not support this attribute.\n",
    "\n",
    "**Example:**"
   ]
  },
  {
   "cell_type": "code",
   "execution_count": null,
   "metadata": {},
   "outputs": [],
   "source": [
    "import os\n",
    "\n",
    "file_path = 'new_directory'\n",
    "\n",
    "file_stats = os.stat(file_path)\n",
    "\n",
    "print(file_stats)\n"
   ]
  },
  {
   "cell_type": "markdown",
   "metadata": {},
   "source": [
    "Here's a combined example of using `os.listdir` and `os.stat` together:"
   ]
  },
  {
   "cell_type": "code",
   "execution_count": null,
   "metadata": {},
   "outputs": [
    {
     "name": "stdout",
     "output_type": "stream",
     "text": [
      "File: 0801en_answers.ipynb\n",
      "  Size: 4150 bytes\n",
      "  Last Modification Date: 1702905854.0029013\n",
      "File: 0801en_file_read_write.ipynb\n",
      "  Size: 17155 bytes\n",
      "  Last Modification Date: 1705390235.5306942\n",
      "File: 0802en_json_library.ipynb\n",
      "  Size: 5241 bytes\n",
      "  Last Modification Date: 1705391445.6305244\n",
      "File: 0803en_answers.ipynb\n",
      "  Size: 2598 bytes\n",
      "  Last Modification Date: 1702905854.0039015\n",
      "File: 0803en_os_module.ipynb\n",
      "  Size: 13412 bytes\n",
      "  Last Modification Date: 1705391355.1501818\n",
      "File: 0804en_binary_files.ipynb\n",
      "  Size: 2931 bytes\n",
      "  Last Modification Date: 1702905854.0049033\n",
      "File: 0805en_pickle_library.ipynb\n",
      "  Size: 4691 bytes\n",
      "  Last Modification Date: 1702905854.0049033\n",
      "File: changes.txt\n",
      "  Size: 13 bytes\n",
      "  Last Modification Date: 1705390235.542702\n",
      "File: data.json\n",
      "  Size: 28 bytes\n",
      "  Last Modification Date: 1705390235.542702\n",
      "File: fridge_contents.json\n",
      "  Size: 179 bytes\n",
      "  Last Modification Date: 1705390853.392686\n",
      "File: lines.txt\n",
      "  Size: 146 bytes\n",
      "  Last Modification Date: 1705390235.5437021\n",
      "File: numbers.txt\n",
      "  Size: 392 bytes\n",
      "  Last Modification Date: 1705390235.5437021\n",
      "File: oop_fridge_balys.py\n",
      "  Size: 9778 bytes\n",
      "  Last Modification Date: 1705390825.8428822\n",
      "File: results.txt\n",
      "  Size: 46 bytes\n",
      "  Last Modification Date: 1705390235.5437021\n",
      "File: text.txt\n",
      "  Size: 320 bytes\n",
      "  Last Modification Date: 1705390235.5437021\n"
     ]
    }
   ],
   "source": [
    "import os\n",
    "\n",
    "directory_path = '.'\n",
    "\n",
    "# Get the directory contents\n",
    "contents = os.listdir(directory_path)\n",
    "\n",
    "for element in contents:\n",
    "    element_path = os.path.join(directory_path, element)  # Concatenate the directory and element name\n",
    "\n",
    "    # Check if it's a file\n",
    "    if os.path.isfile(element_path):\n",
    "        file_stats = os.stat(element_path)\n",
    "        print(f\"File: {element}\")\n",
    "        print(f\"  Size: {file_stats.st_size} bytes\")\n",
    "        print(f\"  Last Modification Date: {file_stats.st_mtime}\")\n",
    "    elif os.path.isdir(element_path):\n",
    "        print(f\"Directory: {element}\")\n"
   ]
  },
  {
   "cell_type": "markdown",
   "metadata": {},
   "source": [
    "This tutorial covers essential `os` module functions for working with the file system and directories in Python."
   ]
  },
  {
   "cell_type": "markdown",
   "metadata": {},
   "source": [
    "## `Quick Assignment 3: Creating and Deleting a File`\n",
    "\n",
    "**Task Description:**  \n",
    "1. Create a new file named \"test.txt\" in your current working directory. \n",
    "1. Write a program that checks if the file \"test.txt\" exists and deletes it if it does. \n",
    "1. Print the result to confirm the successful deletion.\n"
   ]
  },
  {
   "cell_type": "code",
   "execution_count": 37,
   "metadata": {},
   "outputs": [
    {
     "name": "stdout",
     "output_type": "stream",
     "text": [
      "Directory 'new_directory/subdirectory' created.\n",
      "Test file 'new_directory/subdirectory\\test.txt' created.\n",
      "File 'D:\\CodeAcademy\\monda_py01\\08_working_with_files\\new_directory\\subdirectory\\test.txt' exists.\n",
      "File 'D:\\CodeAcademy\\monda_py01\\08_working_with_files\\new_directory\\subdirectory\\test.txt' deleted.\n",
      "Directory tree 'D:\\CodeAcademy\\monda_py01\\08_working_with_files\\new_directory\\subdirectory' deleted.\n"
     ]
    }
   ],
   "source": [
    "import os\n",
    "#1\n",
    "directory_path = 'new_directory/subdirectory'\n",
    "if not os.path.exists(directory_path):\n",
    "    os.makedirs(directory_path)\n",
    "    print(f\"Directory '{directory_path}' created.\")\n",
    "else:\n",
    "    print(f\"Directory '{directory_path}' already exists.\")\n",
    "file_path = os.path.join(directory_path, 'test.txt')\n",
    "with open(file_path, 'w') as file:\n",
    "    file.write(\"This is a test file.\")\n",
    "print(f\"Test file '{file_path}' created.\")\n",
    "#2\n",
    "file_path = r'D:\\CodeAcademy\\monda_py01\\08_working_with_files\\new_directory\\subdirectory\\test.txt'\n",
    "if os.path.exists(file_path):\n",
    "    print(f\"File '{file_path}' exists.\")\n",
    "else:\n",
    "    print(f\"File '{file_path}' does not exist.\")\n",
    "\n",
    "file_path = 'D:\\\\CodeAcademy\\\\monda_py01\\\\08_working_with_files\\\\new_directory\\\\subdirectory\\\\test.txt'\n",
    "if os.path.exists(file_path):\n",
    "    os.remove(file_path)\n",
    "    print(f\"File '{file_path}' deleted.\")\n",
    "else:\n",
    "    print(f\"File '{file_path}' does not exist.\")\n",
    "\n",
    "directory_tree_path = r'D:\\CodeAcademy\\monda_py01\\08_working_with_files\\new_directory\\subdirectory'\n",
    "if os.path.exists(directory_tree_path):\n",
    "    os.removedirs(directory_tree_path)\n",
    "    print(f\"Directory tree '{directory_tree_path}' deleted.\")\n",
    "else:\n",
    "    print(f\"Directory tree '{directory_tree_path}' does not exist.\")"
   ]
  }
 ],
 "metadata": {
  "kernelspec": {
   "display_name": "venv",
   "language": "python",
   "name": "venv"
  },
  "language_info": {
   "codemirror_mode": {
    "name": "ipython",
    "version": 3
   },
   "file_extension": ".py",
   "mimetype": "text/x-python",
   "name": "python",
   "nbconvert_exporter": "python",
   "pygments_lexer": "ipython3",
   "version": "3.12.1"
  }
 },
 "nbformat": 4,
 "nbformat_minor": 2
}
