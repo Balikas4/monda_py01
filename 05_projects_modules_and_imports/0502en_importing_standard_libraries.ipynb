{
 "cells": [
  {
   "cell_type": "markdown",
   "metadata": {},
   "source": [
    "# Importing Standard Libraries\n",
    "import `this` - \"The Zen of Python\"\n",
    "\n",
    "\"The Zen of Python\" is a poetic expression of the philosophy of the Python programming language written by Tim Peters. Here's how you can see it:"
   ]
  },
  {
   "cell_type": "code",
   "execution_count": 1,
   "metadata": {},
   "outputs": [
    {
     "name": "stdout",
     "output_type": "stream",
     "text": [
      "The Zen of Python, by Tim Peters\n",
      "\n",
      "Beautiful is better than ugly.\n",
      "Explicit is better than implicit.\n",
      "Simple is better than complex.\n",
      "Complex is better than complicated.\n",
      "Flat is better than nested.\n",
      "Sparse is better than dense.\n",
      "Readability counts.\n",
      "Special cases aren't special enough to break the rules.\n",
      "Although practicality beats purity.\n",
      "Errors should never pass silently.\n",
      "Unless explicitly silenced.\n",
      "In the face of ambiguity, refuse the temptation to guess.\n",
      "There should be one-- and preferably only one --obvious way to do it.\n",
      "Although that way may not be obvious at first unless you're Dutch.\n",
      "Now is better than never.\n",
      "Although never is often better than *right* now.\n",
      "If the implementation is hard to explain, it's a bad idea.\n",
      "If the implementation is easy to explain, it may be a good idea.\n",
      "Namespaces are one honking great idea -- let's do more of those!\n"
     ]
    }
   ],
   "source": [
    "import this"
   ]
  },
  {
   "cell_type": "markdown",
   "metadata": {},
   "source": [
    "The main principles in these lines are:\n",
    "\n",
    "1. Clarity is better than obscurity.\n",
    "1. Simplicity is better than complexity.\n",
    "1. Flat is better than nested.\n",
    "1. Practicality beats purity."
   ]
  },
  {
   "cell_type": "markdown",
   "metadata": {},
   "source": [
    "### `import random` - random number generator functions\n",
    "Python's random library allows you to generate random numbers, select elements randomly from a list, and more. Here are a few examples:"
   ]
  },
  {
   "cell_type": "code",
   "execution_count": 2,
   "metadata": {},
   "outputs": [
    {
     "name": "stdout",
     "output_type": "stream",
     "text": [
      "0.2109934282398166\n",
      "1\n",
      "c\n"
     ]
    }
   ],
   "source": [
    "import random\n",
    "\n",
    "# Generate a random number between 0 and 1\n",
    "print(random.random())\n",
    "\n",
    "# Generate a random integer between 1 and 10\n",
    "print(random.randint(1, 10))\n",
    "\n",
    "# Randomly select an element from a list\n",
    "my_list = [\"a\", \"b\", \"c\", \"d\", \"e\"]\n",
    "print(random.choice(my_list))\n"
   ]
  },
  {
   "cell_type": "markdown",
   "metadata": {},
   "source": [
    "### Quick Assignment 1: Python Function Assignment\n",
    "\n",
    "## Objective\n",
    "\n",
    "Write a Python function named `print_and_sort_random_numbers` that performs the following actions:\n",
    "\n",
    "1. Generates 10 random integers between 1 and 100.\n",
    "2. Prints the original list of random numbers.\n",
    "3. Sorts the list in ascending order.\n",
    "4. Prints the sorted list."
   ]
  },
  {
   "cell_type": "code",
   "execution_count": 17,
   "metadata": {},
   "outputs": [
    {
     "name": "stdout",
     "output_type": "stream",
     "text": [
      "[65, 92, 25, 77, 69, 44, 64, 11, 10, 74]\n",
      "[10, 11, 25, 44, 64, 65, 69, 74, 77, 92]\n"
     ]
    }
   ],
   "source": [
    "import random\n",
    "def dice_game():\n",
    "    number_list = []\n",
    "    count = 0\n",
    "    while count <10:\n",
    "        random_number = random.randint(1, 100)\n",
    "        number_list.append(random_number)\n",
    "        count += 1\n",
    "    print(number_list)\n",
    "    number_list.sort()\n",
    "    print(number_list)\n",
    "dice_game()"
   ]
  },
  {
   "cell_type": "markdown",
   "metadata": {},
   "source": [
    "### `import math` - additional mathematical functions\n",
    "Python's math library provides access to additional mathematical functions and constants such as π (pi) and e. Here are some examples:"
   ]
  },
  {
   "cell_type": "code",
   "execution_count": 18,
   "metadata": {},
   "outputs": [
    {
     "name": "stdout",
     "output_type": "stream",
     "text": [
      "1.0\n",
      "120\n",
      "3.0\n"
     ]
    }
   ],
   "source": [
    "import math\n",
    "\n",
    "# Calculate the sine value\n",
    "print(math.sin(math.pi / 2))\n",
    "\n",
    "# Calculate the factorial\n",
    "print(math.factorial(5))\n",
    "\n",
    "# Calculate the square root\n",
    "print(math.sqrt(9))"
   ]
  },
  {
   "cell_type": "markdown",
   "metadata": {},
   "source": [
    "### Quick Assignment 2: A dice game\n",
    "\n",
    "Create a dice game that:\n",
    "\n",
    "- Generates three random numbers from 1 to 6\n",
    "- If one of these numbers is a 5, print \"You lost...\"\n",
    "- Otherwise, print \"You won!\"\n",
    "- Hint: Use a loop"
   ]
  },
  {
   "cell_type": "code",
   "execution_count": 33,
   "metadata": {},
   "outputs": [
    {
     "name": "stdout",
     "output_type": "stream",
     "text": [
      "[1, 3, 5]\n",
      "LOSE\n"
     ]
    }
   ],
   "source": [
    "import random\n",
    "def dice_game():\n",
    "    number_list = []\n",
    "    count = 0\n",
    "    got_5 = False\n",
    "    while count <3:\n",
    "        random_number = random.randint(1, 6)\n",
    "        number_list.append(random_number)\n",
    "        count += 1\n",
    "    print(number_list)\n",
    "    for number in number_list:\n",
    "        if number == 5:\n",
    "            got_5 = True\n",
    "            break\n",
    "        else:\n",
    "            pass\n",
    "    if got_5:\n",
    "        print(\"LOSE\")\n",
    "    else:\n",
    "        print(\"WIN\")\n",
    "dice_game()"
   ]
  },
  {
   "cell_type": "markdown",
   "metadata": {},
   "source": [
    "### `import calendar` - calendar functions\n",
    "Python's calendar library allows you to work with calendars, for example, to determine whether a year is a leap year or to find out which day of the week corresponds to a specific date. \n",
    "\n",
    "Here are some examples:"
   ]
  },
  {
   "cell_type": "code",
   "execution_count": 34,
   "metadata": {},
   "outputs": [
    {
     "name": "stdout",
     "output_type": "stream",
     "text": [
      "True\n",
      "Tuesday\n",
      "(calendar.SATURDAY, 30)\n",
      "    October 2023\n",
      "Mo Tu We Th Fr Sa Su\n",
      "                   1\n",
      " 2  3  4  5  6  7  8\n",
      " 9 10 11 12 13 14 15\n",
      "16 17 18 19 20 21 22\n",
      "23 24 25 26 27 28 29\n",
      "30 31\n",
      "\n"
     ]
    }
   ],
   "source": [
    "import calendar\n",
    "\n",
    "# Check if a year is a leap year\n",
    "print(calendar.isleap(2024))\n",
    "\n",
    "# Get the day name by number\n",
    "print(calendar.day_name[1])  # 'Tuesday'\n",
    "\n",
    "# Get the number of days in a month\n",
    "print(calendar.monthrange(2023, 4))  # (5, 30) - the first day of April is a Saturday (5), and April has 30 days\n",
    "\n",
    "# Print a monthly calendar\n",
    "print(calendar.month(2024, 1))\n"
   ]
  },
  {
   "cell_type": "markdown",
   "metadata": {},
   "source": [
    "The calendar library has many more functions and features to help you work with dates and times. \n",
    "\n",
    "These examples are just a starting point. You can find more information about the calendar library in the Python documentation.\n",
    "\n",
    "[Python documentation, calendar library](https://docs.python.org/3/library/calendar.html)"
   ]
  },
  {
   "cell_type": "markdown",
   "metadata": {},
   "source": [
    "### Quick Assignment 3:\n",
    "\n",
    "Create a Python function named `print_month_calendar`.\n",
    "\n",
    "- The function should take two parameters: year and month.\n",
    "- Inside the function, using the `calendar` module, generate and print the calendar for the specified month.\n",
    "- Calculate and print how many weekend days (Saturdays and Sundays) there are in the given month."
   ]
  },
  {
   "cell_type": "code",
   "execution_count": 54,
   "metadata": {},
   "outputs": [
    {
     "name": "stdout",
     "output_type": "stream",
     "text": [
      "   December 2024\n",
      "Mo Tu We Th Fr Sa Su\n",
      "                   1\n",
      " 2  3  4  5  6  7  8\n",
      " 9 10 11 12 13 14 15\n",
      "16 17 18 19 20 21 22\n",
      "23 24 25 26 27 28 29\n",
      "30 31\n",
      "\n",
      "Weekend count:  9\n"
     ]
    }
   ],
   "source": [
    "import calendar\n",
    "#1\n",
    "def print_caledar_and_weekends(year, month): #2\n",
    "    # year_month_str = input(\"Input year and month \\\"YYYY:MM\\\"\") #3\n",
    "    # str_parts = year_month_str.split(\":\")\n",
    "    # input_year = int(str_parts[0])\n",
    "    # input_month = int(str_parts[1])\n",
    "    print(calendar.month(year, month))\n",
    "    days_number = calendar.monthrange(year, month)[1]\n",
    "    count = 0\n",
    "    for day in range(1, days_number+ 1):\n",
    "        weekday = calendar.weekday(year, month, day)\n",
    "        if calendar.day_name[weekday] == \"Saturday\" or calendar.day_name[weekday] == \"Sunday\":\n",
    "            count += 1\n",
    "        else:\n",
    "            pass\n",
    "    print(\"Weekend count: \", count)\n",
    "\n",
    "print_caledar_and_weekends(2024, 12)\n"
   ]
  }
 ],
 "metadata": {
  "kernelspec": {
   "display_name": "venv",
   "language": "python",
   "name": "venv"
  },
  "language_info": {
   "codemirror_mode": {
    "name": "ipython",
    "version": 3
   },
   "file_extension": ".py",
   "mimetype": "text/x-python",
   "name": "python",
   "nbconvert_exporter": "python",
   "pygments_lexer": "ipython3",
   "version": "3.12.1"
  }
 },
 "nbformat": 4,
 "nbformat_minor": 2
}
