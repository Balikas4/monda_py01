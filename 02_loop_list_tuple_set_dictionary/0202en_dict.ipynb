{
 "cells": [
  {
   "cell_type": "markdown",
   "metadata": {},
   "source": [
    "# Dictionary\n",
    "\n",
    "A `dictionary` is one of the fundamental data structures in Python, which allows you to store collections of key-value pairs. \n",
    "- In a dictionary, each key is associated with a value, and you can access this value by using the key's name.\n",
    "- In Python, dictionaries are incredibly useful for various tasks, such as storing information, organizing data, and quickly retrieving values associated with specific keys."
   ]
  },
  {
   "cell_type": "markdown",
   "metadata": {},
   "source": [
    "# Creating Dictionaries\n",
    "\n",
    "- Dictionaries in Python can be created using curly braces `{}`. \n",
    "- Each `key` and `value` are separated by `colons`, and multiple key-value pairs are separated by `commas`. For example:"
   ]
  },
  {
   "cell_type": "code",
   "execution_count": 53,
   "metadata": {},
   "outputs": [
    {
     "name": "stdout",
     "output_type": "stream",
     "text": [
      "{'key1': 'value1', 'key2': 'value2'}\n"
     ]
    }
   ],
   "source": [
    "dictionary = {'key1': 'value1', 'key2': 'value2'}\n",
    "print(dictionary) # {'key1': 'value1', 'key2': 'value2'} "
   ]
  },
  {
   "cell_type": "markdown",
   "metadata": {},
   "source": [
    "# `Quick assignment 1: dictionary creation`\n",
    "\n",
    "Instructions:\n",
    "1. Create a dictionary with at least three pet names and their ages.\n",
    "1. Print the entire dictionary.\n",
    "##### Hint\n",
    "- Use any variable name of your choice."
   ]
  },
  {
   "cell_type": "code",
   "execution_count": 19,
   "metadata": {},
   "outputs": [
    {
     "name": "stdout",
     "output_type": "stream",
     "text": [
      "3\n"
     ]
    }
   ],
   "source": [
    "dikcija = {\"Adolfas\": 3 , \"Snipas\" : 5, \"Bartas\" : 12}\n",
    "print(dikcija)"
   ]
  },
  {
   "cell_type": "markdown",
   "metadata": {},
   "source": [
    "# Accessing a Specific Dictionary Entry\n",
    "\n",
    "To access a specific entry in a dictionary, you need to simply specify the key within square `[]` brackets:"
   ]
  },
  {
   "cell_type": "code",
   "execution_count": 2,
   "metadata": {},
   "outputs": [
    {
     "name": "stdout",
     "output_type": "stream",
     "text": [
      "32\n",
      "24\n"
     ]
    }
   ],
   "source": [
    "people = {'John': 24, 'Peter': 32}\n",
    "print(people['Peter']) # 32\n",
    "print(people['John']) # 24"
   ]
  },
  {
   "cell_type": "markdown",
   "metadata": {},
   "source": [
    "# `Quick assignment 2: Accessing a Specific Dictionary Entry`\n",
    "\n",
    "Instructions:\n",
    "1. Print the age of any pet from the dictionary created in Quick Assignment 1."
   ]
  },
  {
   "cell_type": "code",
   "execution_count": 22,
   "metadata": {},
   "outputs": [
    {
     "name": "stdout",
     "output_type": "stream",
     "text": [
      "3\n"
     ]
    }
   ],
   "source": [
    "dikcija = {\"Adolfas\": 3 , \"Snipas\" : 5, \"Bartas\" : 12}\n",
    "print(dikcija[\"Adolfas\"])"
   ]
  },
  {
   "cell_type": "markdown",
   "metadata": {},
   "source": [
    "# Adding an Entry to the Dictionary\n",
    "\n",
    "- You can add an entry to a dictionary using the simple assignment operator `=`, \n",
    "- specifying the key within square `[]` brackets after the dictionary variable name. For example:"
   ]
  },
  {
   "cell_type": "code",
   "execution_count": 23,
   "metadata": {},
   "outputs": [
    {
     "name": "stdout",
     "output_type": "stream",
     "text": [
      "{'John': 24, 'Peter': 32, 'Anna': 28}\n"
     ]
    }
   ],
   "source": [
    "people = {'John': 24, 'Peter': 32}\n",
    "people['Anna'] = 28\n",
    "print(people) # {'John': 24, 'Peter': 32, 'Anna': 28}"
   ]
  },
  {
   "cell_type": "markdown",
   "metadata": {},
   "source": [
    "# `Quick assignment 3: Adding an Entry to the Dictionary`\n",
    "\n",
    "Instructions:\n",
    "1. Add a new pet to the dictionary created in Quick Assignment 1.\n",
    "2. Print the updated dictionary."
   ]
  },
  {
   "cell_type": "code",
   "execution_count": 25,
   "metadata": {},
   "outputs": [
    {
     "name": "stdout",
     "output_type": "stream",
     "text": [
      "{'Adolfas': 3, 'Snipas': 5, 'Bartas': 12, 'Kulis': 21}\n"
     ]
    }
   ],
   "source": [
    "dikcija[\"Kulis\"] = 21\n",
    "print(dikcija)"
   ]
  },
  {
   "cell_type": "markdown",
   "metadata": {},
   "source": [
    "# Changing a Specific Dictionary Entry\n",
    "\n",
    "To change a dictionary entry, you need to specify the existing key within square brackets `[]` after the dictionary variable name and assign a new value to it:"
   ]
  },
  {
   "cell_type": "code",
   "execution_count": null,
   "metadata": {},
   "outputs": [],
   "source": [
    "people = {'John': 24, 'Peter': 32, 'Anna': 28}\n",
    "people['Peter'] = 33\n",
    "print(people) # {'John': 24, 'Peter': 33, 'Anna': 28}"
   ]
  },
  {
   "cell_type": "markdown",
   "metadata": {},
   "source": [
    "# `Quick assignment 4: Changing a Specific Dictionary Entry`\n",
    "Instructions:\n",
    "1. Change the age of any pet from created dictionary in quick assignment 1.\n",
    "1. Print the updated dictionary."
   ]
  },
  {
   "cell_type": "code",
   "execution_count": 27,
   "metadata": {},
   "outputs": [
    {
     "name": "stdout",
     "output_type": "stream",
     "text": [
      "{'Adolfas': 8, 'Snipas': 5, 'Bartas': 12, 'Kulis': 21}\n"
     ]
    }
   ],
   "source": [
    "dikcija[\"Adolfas\"] = 8\n",
    "print(dikcija)"
   ]
  },
  {
   "cell_type": "markdown",
   "metadata": {},
   "source": [
    "# Deleting a Specific Dictionary Entry\n",
    "\n",
    "To delete a dictionary entry, you can use the `del` command followed by the dictionary variable `name` and the `key` in square brackets whose value you want to remove from the dictionary."
   ]
  },
  {
   "cell_type": "code",
   "execution_count": null,
   "metadata": {},
   "outputs": [],
   "source": [
    "people = {'John': 24, 'Peter': 32, 'Anna': 28}\n",
    "del people['Anna']\n",
    "print(people) # {'John': 24, 'Peter': 32}"
   ]
  },
  {
   "cell_type": "markdown",
   "metadata": {},
   "source": [
    "# `Quick Assignment 5: Deleting a Specific Dictionary Entry`\n",
    "\n",
    "\n",
    "#### Now, let's practice quickly deleting dictionary entries:\n",
    "Instructions:\n",
    "1. Use the `del` command to remove one of the pets and its quantity from created dictionary in quick assignment 1.\n",
    "2. Print the `pets` dictionary again to see the result."
   ]
  },
  {
   "cell_type": "code",
   "execution_count": 28,
   "metadata": {},
   "outputs": [
    {
     "name": "stdout",
     "output_type": "stream",
     "text": [
      "{'Snipas': 5, 'Bartas': 12, 'Kulis': 21}\n"
     ]
    }
   ],
   "source": [
    "del dikcija [\"Adolfas\"]\n",
    "print(dikcija)"
   ]
  },
  {
   "cell_type": "markdown",
   "metadata": {},
   "source": [
    "# Dictionary Methods\n",
    "\n",
    "Dictionary methods allow you to perform actions on dictionaries and manipulate their content. Here are some of the most commonly used methods:\n",
    "- `.keys()` - Returns all the keys in the dictionary."
   ]
  },
  {
   "cell_type": "code",
   "execution_count": 29,
   "metadata": {},
   "outputs": [
    {
     "name": "stdout",
     "output_type": "stream",
     "text": [
      "dict_keys(['John', 'Peter', 'Anna'])\n"
     ]
    }
   ],
   "source": [
    "dictionary = {'John': 24, 'Peter': 32, 'Anna': 28}\n",
    "keys = dictionary.keys()\n",
    "print(keys) # dict_keys(['John', 'Peter', 'Anna'])"
   ]
  },
  {
   "cell_type": "markdown",
   "metadata": {},
   "source": [
    "- `.values()` - Returns all the values in the dictionary."
   ]
  },
  {
   "cell_type": "code",
   "execution_count": 30,
   "metadata": {},
   "outputs": [
    {
     "name": "stdout",
     "output_type": "stream",
     "text": [
      "dict_values([24, 32, 28])\n"
     ]
    }
   ],
   "source": [
    "dictionary = {'John': 24, 'Peter': 32, 'Anna': 28}\n",
    "values = dictionary.values()\n",
    "print(values) # dict_values([24, 32, 28])"
   ]
  },
  {
   "cell_type": "markdown",
   "metadata": {},
   "source": [
    "- `.items()` - Returns a list of all key-value pairs in the dictionary."
   ]
  },
  {
   "cell_type": "code",
   "execution_count": 31,
   "metadata": {},
   "outputs": [
    {
     "name": "stdout",
     "output_type": "stream",
     "text": [
      "dict_items([('John', 24), ('Peter', 32), ('Anna', 28)])\n"
     ]
    }
   ],
   "source": [
    "dictionary = {'John': 24, 'Peter': 32, 'Anna': 28}\n",
    "items = dictionary.items()\n",
    "print(items) # dict_items([('John', 24), ('Peter', 32), ('Anna', 28)])"
   ]
  },
  {
   "cell_type": "markdown",
   "metadata": {},
   "source": [
    "- `.get()` - Returns the value corresponding to the specified key. \n",
    "##### If the key is not found, it can return a default value (specified as a separate argument) or None."
   ]
  },
  {
   "cell_type": "code",
   "execution_count": 36,
   "metadata": {},
   "outputs": [
    {
     "name": "stdout",
     "output_type": "stream",
     "text": [
      "24\n",
      "32\n",
      "32\n"
     ]
    }
   ],
   "source": [
    "dictionary = {'John': 24, 'Peter': 32, 'Anna': 28}\n",
    "value = dictionary.get('John')\n",
    "print(value) # 24\n",
    "print(dictionary.get('Peter', 0)) # 0\n",
    "print(dictionary.get('Peter')) # None"
   ]
  },
  {
   "cell_type": "markdown",
   "metadata": {},
   "source": [
    "- `.pop()` - Removes and returns the value associated with the specified key. If the key is not found, it can return a default value (specified as a separate argument) or raise an error."
   ]
  },
  {
   "cell_type": "code",
   "execution_count": 37,
   "metadata": {},
   "outputs": [
    {
     "name": "stdout",
     "output_type": "stream",
     "text": [
      "32\n",
      "0\n",
      "{'John': 24, 'Anna': 28}\n"
     ]
    }
   ],
   "source": [
    "dictionary = {'John': 24, 'Peter': 32, 'Anna': 28}\n",
    "value = dictionary.pop('Peter')\n",
    "print(value) # 32\n",
    "not_found = dictionary.pop('Joseph', 0) \n",
    "print(not_found) # 0\n",
    "print(dictionary) # {'Jonas': 24, 'Anna': 28}"
   ]
  },
  {
   "cell_type": "markdown",
   "metadata": {},
   "source": [
    "- `.clear()` - Clears the content of the dictionary, making it an empty dictionary."
   ]
  },
  {
   "cell_type": "code",
   "execution_count": null,
   "metadata": {},
   "outputs": [],
   "source": [
    "dictionary = {'John': 24, 'Peter': 32, 'Anna': 28}\n",
    "dictionary.clear()\n",
    "print(dictionary) # {}"
   ]
  },
  {
   "cell_type": "markdown",
   "metadata": {},
   "source": [
    "# `Quick Assignment 6: Methods`\n",
    "\n",
    "Now, let's practice using these dictionary methods:\n",
    "\n",
    "1. Print the values of the pets dictionary.\n",
    "2. Use the .items() method to print a `list` of all key-value pairs in the pets dictionary.\n",
    "3. Use the .get() method to `retrieve` the age of one pet, providing a default value if the pet is not found.\n",
    "4. Use the .pop() method to `remove` one pet and their age from the dictionary.\n",
    "5. `Clear` the content of the `pets` dictionary using the `.clear()` method and print the empty dictionary."
   ]
  },
  {
   "cell_type": "code",
   "execution_count": 52,
   "metadata": {},
   "outputs": [
    {
     "name": "stdout",
     "output_type": "stream",
     "text": [
      "{'John': 24, 'Peter': 32, 'Anna': 28}\n",
      "dict_items([('John', 24), ('Peter', 32), ('Anna', 28)])\n",
      "24\n",
      "{'John': 24, 'Peter': 32}\n",
      "{}\n"
     ]
    }
   ],
   "source": [
    "#1\n",
    "dictionary = {'John': 24, 'Peter': 32, 'Anna': 28}\n",
    "print(dictionary)\n",
    "#2\n",
    "items_to_print = dictionary.items()\n",
    "print(items_to_print)\n",
    "3#\n",
    "print(dictionary.get(\"John\"))\n",
    "if dictionary.get((\"John\")) == None:\n",
    "    print(\"There is no such data\")\n",
    "#4\n",
    "dictionary.pop(\"Anna\")\n",
    "print(dictionary)\n",
    "#5\n",
    "dictionary.clear()\n",
    "print(dictionary)"
   ]
  },
  {
   "cell_type": "markdown",
   "metadata": {},
   "source": [
    "# `Bonus Task`\n",
    "\n",
    "1. Create an empty dictionary named \"cars\" and add information about three different cars to the dictionary. Don't hesitate to use your creativity and include various brands, models, years, colors, and engine types.\n",
    "1. Display the information about one of the cars from the dictionary.\n",
    "1. Modify the information about one car (for example, change the engine type).\n",
    "1. Add a new car to the dictionary.\n",
    "1. Remove information about one car from the dictionary.\n",
    "1. Display the total number of cars in the dictionary.\n",
    "1. Check if a specific car is in the dictionary.\n",
    "1. Clear the dictionary. "
   ]
  },
  {
   "cell_type": "code",
   "execution_count": 96,
   "metadata": {},
   "outputs": [
    {
     "name": "stdout",
     "output_type": "stream",
     "text": [
      "{'brand': 'Mazda', 'year': 1996, 'horse power': 700, 'car type': 'Coupe', 'wheel size': 18}\n",
      "[19, 20, 24]\n",
      "{'brand': 'Smart', 'year': '2014', 'horse power': '77', 'car type': 'hatchback', 'wheel size': '13'}\n",
      "[{'brand': 'BMW', 'year': 2012, 'horse power': 240, 'car type': 'Coupe', 'wheel size': 19}, {'brand': 'Mazda', 'year': 1996, 'horse power': 700, 'car type': 'Coupe', 'wheel size': 18}, {'brand': 'Tesla', 'year': 2023, 'horse power': 1200, 'car type': 'Truck', 'wheel size': 24}]\n",
      "3\n",
      "True\n",
      "[]\n"
     ]
    }
   ],
   "source": [
    "#1\n",
    "brand = [\"BMW\", \"Mazda\", \"Tesla\"]\n",
    "year = [2012, 1996, 2023]\n",
    "horse_power = [240, 700, 1200]\n",
    "car_type = [\"Coupe\", \"Coupe\", \"Truck\"]\n",
    "wheel_size = [19 ,18 ,24]\n",
    "car1 = [brand[0], year[0], horse_power[0], car_type[0], wheel_size[0]]\n",
    "car2 = [brand[1], year[1], horse_power[1], car_type[0], wheel_size[1]]\n",
    "car3 = [brand[2], year[2], horse_power[2], car_type[2], wheel_size[2]]       \n",
    "#2\n",
    "cars =  [\n",
    "    {'brand': brand[0], 'year': year[0], 'horse power': horse_power[0], 'car type': car_type[0], 'wheel size': wheel_size[0]},\n",
    "    {'brand': brand[1], 'year': year[1], 'horse power': horse_power[1], 'car type': car_type[1], 'wheel size': wheel_size[1]},\n",
    "    {'brand': brand[2], 'year': year[2], 'horse power': horse_power[2], 'car type': car_type[2], 'wheel size': wheel_size[2]}\n",
    "        ]\n",
    "print(cars[1])\n",
    "#3\n",
    "wheel_size.pop(1)\n",
    "wheel_size.insert(1, 20)\n",
    "print(wheel_size)\n",
    "#4\n",
    "brand.append(\"Smart\")\n",
    "year.append(\"2014\")\n",
    "horse_power.append(\"77\")\n",
    "car_type.append(\"hatchback\")\n",
    "wheel_size.append(\"13\")\n",
    "cars.append({'brand': brand[3], 'year': year[3], 'horse power': horse_power[3], 'car type': car_type[3], 'wheel size': wheel_size[3]})\n",
    "print(cars[3])\n",
    "#5\n",
    "cars.pop(3)\n",
    "print(cars)\n",
    "#6\n",
    "print(len(cars))\n",
    "#7\n",
    "print(\"BMW\" in brand)\n",
    "#8\n",
    "cars.clear()\n",
    "print(cars)\n"
   ]
  },
  {
   "cell_type": "code",
   "execution_count": null,
   "metadata": {},
   "outputs": [],
   "source": []
  }
 ],
 "metadata": {
  "kernelspec": {
   "display_name": "Python 3",
   "language": "python",
   "name": "python3"
  },
  "language_info": {
   "codemirror_mode": {
    "name": "ipython",
    "version": 3
   },
   "file_extension": ".py",
   "mimetype": "text/x-python",
   "name": "python",
   "nbconvert_exporter": "python",
   "pygments_lexer": "ipython3",
   "version": "3.10.7"
  },
  "orig_nbformat": 4
 },
 "nbformat": 4,
 "nbformat_minor": 2
}
