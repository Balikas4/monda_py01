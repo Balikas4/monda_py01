{
 "cells": [
  {
   "cell_type": "markdown",
   "metadata": {},
   "source": [
    "# Polymorphism\n",
    "\n",
    "`Polymorphism` is one of the principles of object-oriented programming that allows one function or method to work with different objects. This means that several objects can be used in the same way, even though they have different types or implementations.\n",
    "\n",
    "`Polymorphism` helps increase the flexibility, convenience, and organization of a program because the code is much easier to adapt to changes.\n",
    "\n",
    "## Method Overriding\n",
    "\n",
    "`Method overriding` is the ability to rewrite a parent class method in a derived class and provide it with a new implementation. This is possible because the derived class already has a method with the same name as the parent class.\n",
    "\n",
    "`Method overriding` allows us to have specialized classes that can modify or extend the functionality of the parent class without changing the parent class itself. The method in the derived class can also have additional arguments that are not necessary in the parent class."
   ]
  },
  {
   "cell_type": "code",
   "execution_count": 1,
   "metadata": {},
   "outputs": [],
   "source": [
    "class Car:\n",
    "    def __init__(self, make, model):\n",
    "        self.make = make\n",
    "        self.model = model\n",
    "\n",
    "    def speed(self):\n",
    "        print('This car is running at a legal speed')\n",
    "\n",
    "\n",
    "class SportsCar(Car):\n",
    "    def speed(self):\n",
    "        print('This sports car can go up to 300 km/h')\n",
    "\n",
    "\n",
    "class VintageCar(Car):\n",
    "    def speed(self):\n",
    "        print('This vintage car can go up to 100 km/h')\n",
    "\n",
    "\n",
    "def information(car):\n",
    "    car.speed()"
   ]
  },
  {
   "cell_type": "markdown",
   "metadata": {},
   "source": [
    "By calling the created function with objects belonging to different classes, we will get different results:"
   ]
  },
  {
   "cell_type": "code",
   "execution_count": 2,
   "metadata": {},
   "outputs": [
    {
     "name": "stdout",
     "output_type": "stream",
     "text": [
      "This sports car can go up to 300 km/h\n",
      "This vintage car can go up to 100 km/h\n",
      "This car is running at a legal speed\n"
     ]
    }
   ],
   "source": [
    "ferrari = SportsCar('Ferrari', '458 Italia')\n",
    "ford = VintageCar('Ford', 'Model T')\n",
    "audi = Car(\"Audi\", \"A4\")\n",
    "\n",
    "information(ferrari) # This sports car can go up to 300 km/h\n",
    "information(ford)    # This vintage car can go up to 100 km/h\n",
    "information(audi)    # This car is running at a legal speed"
   ]
  },
  {
   "cell_type": "markdown",
   "metadata": {},
   "source": [
    "# `Assignment 1: Method Overriding`\n",
    "\n",
    "Objective: Demonstrate understanding of method overriding in Python.\n",
    "\n",
    "1. Create a Python program that defines a base class `Animal` with a method `make_sound()`. \n",
    "1. Then, create two derived classes, `Dog` and `Cat`, that inherit from `Animal`. \n",
    "1. Override the `make_sound()` method in both derived classes to make the dog bark and the cat meow, respectively.\n",
    "1. Finally, create instances of both the `Dog` and `Cat` classes and call their `make_sound()` methods."
   ]
  },
  {
   "cell_type": "code",
   "execution_count": 13,
   "metadata": {},
   "outputs": [
    {
     "name": "stdout",
     "output_type": "stream",
     "text": [
      "MEEEEOW\n",
      "WOOOF\n",
      "Cat has 4 legs.\n",
      "Dog has 3 legs.\n"
     ]
    }
   ],
   "source": [
    "#1\n",
    "class Animal:\n",
    "    def __init__(self,name = \"Unnamed\", legs=4 , eyes= 2):\n",
    "        self.legs = legs\n",
    "        self.eyes = eyes\n",
    "    def make_sound():\n",
    "        print(\"ANIMAL\")\n",
    "\n",
    "#2 and 3      \n",
    "class Dog(Animal):\n",
    "    def make_sound(self):\n",
    "        print(\"WOOOF\")\n",
    "\n",
    "class Cat(Animal):\n",
    "    def make_sound(self):\n",
    "        print(\"MEEEEOW\")\n",
    "\n",
    "#4\n",
    "cat1= Cat(\"Aleks\", 4, 2)\n",
    "dog1= Dog(\"Spielberg\", 3, 2)\n",
    "cat1.make_sound()\n",
    "dog1.make_sound()\n",
    "print(f\"Cat has {cat1.legs} legs.\")\n",
    "print(f\"Dog has {dog1.legs} legs.\")"
   ]
  },
  {
   "cell_type": "markdown",
   "metadata": {},
   "source": [
    "## Calling an Inherited Method\n",
    "\n",
    "When you want to use inherited methods and properties from the parent class while also changing their behavior, you can use the `super()` function. This allows us to maintain the functionality of the parent class while adding our additional functionality. \n",
    "\n",
    "For example:"
   ]
  },
  {
   "cell_type": "code",
   "execution_count": 14,
   "metadata": {},
   "outputs": [],
   "source": [
    "class Car:\n",
    "    def __init__(self, make, model):\n",
    "        self.make = make\n",
    "        self.model = model\n",
    "\n",
    "    def speed(self):\n",
    "        print('This car is running at a legal speed')\n",
    "\n",
    "\n",
    "class SportsCar(Car):\n",
    "    def speed(self):\n",
    "        super().speed()\n",
    "        print('This sports car can go up to 300 km/h')\n",
    "\n",
    "\n",
    "def information(car):\n",
    "    car.speed()"
   ]
  },
  {
   "cell_type": "markdown",
   "metadata": {},
   "source": [
    "When calling the function with an object that inherits the method from the parent class, you will get the following result:"
   ]
  },
  {
   "cell_type": "code",
   "execution_count": 15,
   "metadata": {},
   "outputs": [
    {
     "name": "stdout",
     "output_type": "stream",
     "text": [
      "This car is running at a legal speed\n",
      "This sports car can go up to 300 km/h\n"
     ]
    }
   ],
   "source": [
    "ferrari = SportsCar('Ferrari', '458 Italia')\n",
    "\n",
    "information(ferrari)    # This car is running at a legal speed\n",
    "                        # This sports car can go up to 300 km/h"
   ]
  },
  {
   "cell_type": "markdown",
   "metadata": {},
   "source": [
    "- In summary, polymorphism allows you to work with different objects using the same methods, method overriding lets you customize methods in derived classes, and calling an inherited method with `super()` maintains the functionality of the parent class while adding new functionality in the derived class."
   ]
  },
  {
   "cell_type": "markdown",
   "metadata": {},
   "source": [
    "# `Assignment 2: Calling an Inherited Method`\n",
    "\n",
    "Objective: Introduce the concept of calling inherited methods using simple banking classes.\n",
    "\n",
    "Task: Create a Python program to simulate a basic bank account. You'll have two classes: `BankAccount` and `SavingsAccount`.\n",
    "\n",
    "Create a class `BankAccount` with the following attributes:\n",
    "- `account_number` (a unique account number)\n",
    "- `account_holder` (the name of the account holder)\n",
    "- `balance` (the current account balance)\n",
    "- Implement a method `display_info()` that displays the account number, account holder's name, and balance.\n",
    "\n",
    "Create a class `SavingsAccount` that inherits from `BankAccount`. In the `SavingsAccount` class, add an additional attribute:\n",
    "- interest_rate (a floating-point number representing the annual interest rate, e.g., 0.05 for 5%)\n",
    "- Override the `display_info()` method in the `SavingsAccount` class to include the interest rate in the displayed information. \n",
    "- You can use the `super()` function to call the base class's `display_info()` method.\n",
    "\n",
    "Create instances of both `BankAccount` and `SavingsAccount`, set their attributes, and call the `display_info()` method on each instance to display the account information."
   ]
  },
  {
   "cell_type": "code",
   "execution_count": 6,
   "metadata": {},
   "outputs": [
    {
     "name": "stdout",
     "output_type": "stream",
     "text": [
      "Hodler: Richard\n",
      "Account Number: 1337\n",
      "Balance: 9001\n",
      "This is a Savings account with a yearly interest rate of: 5.0 %\n",
      "Hodler: Tyrone\n",
      "Account Number: 420\n",
      "Balance: 13\n"
     ]
    }
   ],
   "source": [
    "class BankAccount():\n",
    "    def __init__(self, account_number, account_holder, balance):\n",
    "        self.account_number = account_number\n",
    "        self.account_holder = account_holder\n",
    "        self.balance = balance\n",
    "    def display_info(self):\n",
    "        print(f\"Hodler: {self.account_holder}\\nAccount Number: {self.account_number}\\nBalance: {self.balance}\")\n",
    "\n",
    "class SavingsAccount(BankAccount):\n",
    "    def __init__(self, account_number, account_holder, balance, interest_rate = 0.05):\n",
    "        super().__init__(account_number, account_holder, balance)\n",
    "        self.interest_rate = interest_rate\n",
    "    def display_info(self):\n",
    "        super().display_info()\n",
    "        print(f\"This is a Savings account with a yearly interest rate of: {self.interest_rate*100} %\")\n",
    "        \n",
    "rich_man_1 = SavingsAccount(1337, 'Richard', 9001)\n",
    "rich_man_1.display_info()\n",
    "poor_man_1 = BankAccount(420, \"Tyrone\", 13)\n",
    "poor_man_1.display_info()"
   ]
  }
 ],
 "metadata": {
  "kernelspec": {
   "display_name": "Python 3",
   "language": "python",
   "name": "python3"
  },
  "language_info": {
   "codemirror_mode": {
    "name": "ipython",
    "version": 3
   },
   "file_extension": ".py",
   "mimetype": "text/x-python",
   "name": "python",
   "nbconvert_exporter": "python",
   "pygments_lexer": "ipython3",
   "version": "3.10.7"
  },
  "orig_nbformat": 4
 },
 "nbformat": 4,
 "nbformat_minor": 2
}
