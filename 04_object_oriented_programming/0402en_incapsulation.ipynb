{
 "cells": [
  {
   "cell_type": "markdown",
   "metadata": {},
   "source": [
    "# Incapsulation\n",
    "\n",
    "Encapsulation is an object-oriented programming concept that allows you to hide an object's internal data from the outside world and prevents direct access to that data. This is one of the main ways to make the classroom safer and more resilient.\n"
   ]
  },
  {
   "cell_type": "markdown",
   "metadata": {},
   "source": [
    "### Private Variables\n",
    "\n",
    "Private variables are class variables that are hidden from direct external access and are only accessible through class methods. They can be created by adding two `_` before its name. This gives the variable the property of becoming private and not directly accessible from outside code, that is, code from another class cannot directly access this variable. For example:"
   ]
  },
  {
   "cell_type": "code",
   "execution_count": 1,
   "metadata": {},
   "outputs": [],
   "source": [
    "class Vehicle:\n",
    "    def __init__(self, maker, model, year=2024, colour='grey'):\n",
    "        self.maker = maker\n",
    "        self.model = model\n",
    "        self.__year = year\n",
    "        self.__colour = colour\n",
    "\n",
    "    def get_year(self):\n",
    "        return self.__year\n",
    "\n",
    "    def get_colour(self):\n",
    "        return self.__colour"
   ]
  },
  {
   "cell_type": "code",
   "execution_count": 2,
   "metadata": {},
   "outputs": [
    {
     "name": "stdout",
     "output_type": "stream",
     "text": [
      "Mercedes\n",
      "C-Class\n",
      "2024\n",
      "grey\n"
     ]
    }
   ],
   "source": [
    "third_vehicle = Vehicle('Mercedes', 'C-Class')\n",
    "\n",
    "print(third_vehicle.maker) # Mercedes\n",
    "print(third_vehicle.model) # C-Class\n",
    "print(third_vehicle.get_year()) # 2024\n",
    "print(third_vehicle.get_colour()) # grey"
   ]
  },
  {
   "cell_type": "markdown",
   "metadata": {},
   "source": [
    "#### Assignement 1\n",
    "\n",
    "Create a bank account class that has the following variables: account number, owner, balance, and pin. The last two variables should be private.\n",
    "\n",
    "Create a method to withdraw money from the account, but this action requires a password that should only be known inside the class.\n",
    "Make it so that the account can be topped up."
   ]
  },
  {
   "cell_type": "code",
   "execution_count": 18,
   "metadata": {},
   "outputs": [
    {
     "name": "stdout",
     "output_type": "stream",
     "text": [
      "1337420\n",
      "4242\n",
      "Enter pin to proceed\n",
      "Pin correct, current balance: 1337420\n"
     ]
    },
    {
     "data": {
      "text/plain": [
       "'New balance: 1336083'"
      ]
     },
     "execution_count": 18,
     "metadata": {},
     "output_type": "execute_result"
    }
   ],
   "source": [
    "class BankAccount:\n",
    "    def __init__(self, account_number, owner, balance, pin) :\n",
    "        self.account_number = account_number\n",
    "        self.owner= owner\n",
    "        self.__balance= balance\n",
    "        self.__pin= pin\n",
    "\n",
    "    def get_balance(self):\n",
    "        return self.__balance\n",
    "\n",
    "    def get_pin(self):\n",
    "        return self.__pin\n",
    "\n",
    "    def withdraw_money(self):\n",
    "        print(\"Enter pin to proceed\")\n",
    "        pin = int(input(\"Enter pin to withdraw\"))\n",
    "        if pin == self.__pin:\n",
    "            print(f\"Pin correct, current balance: {self.__balance}\")\n",
    "            ammount_to_withdraw = int(input(\"Enter ammount to withdraw\"))\n",
    "            new_balance = self.__balance - ammount_to_withdraw\n",
    "            self.__balance = new_balance\n",
    "            return f\"New balance: {new_balance}\"\n",
    "        else:\n",
    "            print(\"Pin wrong\")\n",
    "    def top_up(self):\n",
    "        print(f\"Current balance: {self.__balance}\")\n",
    "        ammount_to_top_up = int(input(\"Enter ammount to top up\"))\n",
    "        new_balance = self.__balance + ammount_to_top_up\n",
    "        self.__balance = new_balance\n",
    "        return f\"New balance: {new_balance}\"\n",
    "\n",
    "\n",
    "\n",
    "user1 = BankAccount(\"Liucija\", 123123123, 1337420, 4242)\n",
    "\n",
    "print(user1.get_balance())\n",
    "print(user1.get_pin())\n",
    "user1.withdraw_money()"
   ]
  },
  {
   "cell_type": "markdown",
   "metadata": {},
   "source": [
    "### Private methods\n",
    "\n",
    "A private method is a method that is hidden from direct external access and is only accessible through other methods inside the class. It can be created by adding two `_` before its name. This gives the method the property of becoming private and not directly accessible from outside code, that is, code from another class cannot directly access this method."
   ]
  },
  {
   "cell_type": "code",
   "execution_count": 1,
   "metadata": {},
   "outputs": [],
   "source": [
    "class Vehicle:\n",
    "    def __init__(self, maker, model, year=2024, colour='grey'):\n",
    "        self.maker = maker\n",
    "        self.model = model\n",
    "        self.__year = year\n",
    "        self.__colour = colour\n",
    "\n",
    "    def get_year(self):\n",
    "        return self.__year\n",
    "\n",
    "    def get_colour(self):\n",
    "        return self.__colour\n",
    "\n",
    "    def __change_colour(self, new_colour):\n",
    "        self.__colour = new_colour\n",
    "\n",
    "    def recolour(self, new_colour):\n",
    "        self.__change_colour(new_colour)"
   ]
  },
  {
   "cell_type": "code",
   "execution_count": 3,
   "metadata": {},
   "outputs": [
    {
     "ename": "NameError",
     "evalue": "name 'third_vehicle' is not defined",
     "output_type": "error",
     "traceback": [
      "\u001b[1;31m---------------------------------------------------------------------------\u001b[0m",
      "\u001b[1;31mNameError\u001b[0m                                 Traceback (most recent call last)",
      "Cell \u001b[1;32mIn[3], line 1\u001b[0m\n\u001b[1;32m----> 1\u001b[0m \u001b[43mthird_vehicle\u001b[49m\u001b[38;5;241m.\u001b[39mrecolour(\u001b[38;5;124m'\u001b[39m\u001b[38;5;124mred\u001b[39m\u001b[38;5;124m'\u001b[39m)\n\u001b[0;32m      2\u001b[0m \u001b[38;5;28mprint\u001b[39m(third_vehicle\u001b[38;5;241m.\u001b[39mrecolour()) \u001b[38;5;66;03m# red\u001b[39;00m\n",
      "\u001b[1;31mNameError\u001b[0m: name 'third_vehicle' is not defined"
     ]
    }
   ],
   "source": [
    "third_vehicle = Vehicle('Mercedes', 'C-Class')\n",
    "third_vehicle.recolour('red')\n",
    "\n",
    "print(third_vehicle.maker)\n",
    "print(third_vehicle.model)\n",
    "print(third_vehicle.get_year())\n",
    "print(third_vehicle.get_colour()) # red"
   ]
  },
  {
   "cell_type": "markdown",
   "metadata": {},
   "source": [
    "#### Assignement 2\n",
    "\n",
    "Create a book class that has private variables: title, author, condition, and number of pages, and methods to get them.\n",
    "\n",
    "Create a method to change the status of a book where the only possible values are 'satisfactory', 'poor', 'updated', 'damaged'.\n",
    "\n",
    "Create a method to reduce the number of pages in the book using a private method that overrides that value. Must not increase the number of pages.\n",
    "\n"
   ]
  },
  {
   "cell_type": "code",
   "execution_count": 35,
   "metadata": {},
   "outputs": [
    {
     "name": "stdout",
     "output_type": "stream",
     "text": [
      "Book: Sostu karai \n",
      "Written by: Liudas Vasaris\n",
      "Condition: poor\n",
      "Pages: 9001\n",
      "\n",
      "Author: Liudas Vasaris\n",
      "New condition is: damaged\n",
      "Removing 10 pages\n",
      "New page count: 8991\n",
      "\n"
     ]
    }
   ],
   "source": [
    "class Book:\n",
    "    def __init__(self, title, author, condition, pages): \n",
    "        self.__title = title\n",
    "        self.__author = author\n",
    "        self.__condition = condition\n",
    "        self.__pages = pages\n",
    "    def __str__(self):\n",
    "        return f\"Book: {self.__title} \\nWritten by: {self.__author}\\nCondition: {self.__condition}\\nPages: {self.__pages}\\n\"\n",
    "    \n",
    "    def get_title(self):\n",
    "        print(f\"Title: {self.__title}\")\n",
    "\n",
    "    def get_author(self):\n",
    "        print(f\"Author: {self.__author}\")\n",
    "\n",
    "    def get_condition(self):\n",
    "        print(f\"Condition: {self.__condition}\")\n",
    "\n",
    "    def get_pages(self):\n",
    "        print(f\"Pages: {self.__pages}\")\n",
    "\n",
    "    def change_condition(self):\n",
    "        new_condition = input(\"Input new condition (satisfactory/poor/updated/damaged)\")\n",
    "        if new_condition == \"satisfactory\" or new_condition == \"poor\" or new_condition == \"updated\" or new_condition == \"damaged\":\n",
    "            self.__condition = new_condition\n",
    "            print(f\"New condition is: {self.__condition}\")\n",
    "        else:\n",
    "            print(\"Condition not supported\")\n",
    "    def remove_pages(self, pages):\n",
    "        print(f\"Removing {pages} pages\")\n",
    "        self.__pages -= pages\n",
    "        print(f\"New page count: {self.__pages}\\n\")\n",
    "\n",
    "\n",
    "\n",
    "book1 = Book(title= \"Sostu karai\", author= \"Liudas Vasaris\", condition=\"poor\", pages = 9001)\n",
    "print(book1)\n",
    "book1.get_author()\n",
    "book1.change_condition()\n",
    "book1.remove_pages(10)\n",
    "\n",
    "    # def __change_colour(self, new_colour):\n",
    "    #     self.__colour = new_colour\n"
   ]
  }
 ],
 "metadata": {
  "kernelspec": {
   "display_name": "Python 3",
   "language": "python",
   "name": "python3"
  },
  "language_info": {
   "codemirror_mode": {
    "name": "ipython",
    "version": 3
   },
   "file_extension": ".py",
   "mimetype": "text/x-python",
   "name": "python",
   "nbconvert_exporter": "python",
   "pygments_lexer": "ipython3",
   "version": "3.10.6"
  },
  "orig_nbformat": 4
 },
 "nbformat": 4,
 "nbformat_minor": 2
}
