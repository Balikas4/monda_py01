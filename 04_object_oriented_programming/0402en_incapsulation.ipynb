{
 "cells": [
  {
   "cell_type": "markdown",
   "metadata": {},
   "source": [
    "# Incapsulation\n",
    "\n",
    "Encapsulation is an object-oriented programming concept that allows you to hide an object's internal data from the outside world and prevents direct access to that data. This is one of the main ways to make the classroom safer and more resilient.\n"
   ]
  },
  {
   "cell_type": "markdown",
   "metadata": {},
   "source": [
    "### Private Variables\n",
    "\n",
    "Private variables are class variables that are hidden from direct external access and are only accessible through class methods. They can be created by adding two `_` before its name. This gives the variable the property of becoming private and not directly accessible from outside code, that is, code from another class cannot directly access this variable. For example:"
   ]
  },
  {
   "cell_type": "code",
   "execution_count": 1,
   "metadata": {},
   "outputs": [],
   "source": [
    "class Vehicle:\n",
    "    def __init__(self, maker, model, year=2024, colour='grey'):\n",
    "        self.maker = maker\n",
    "        self.model = model\n",
    "        self.__year = year\n",
    "        self.__colour = colour\n",
    "\n",
    "    def get_year(self):\n",
    "        return self.__year\n",
    "\n",
    "    def get_colour(self):\n",
    "        return self.__colour"
   ]
  },
  {
   "cell_type": "code",
   "execution_count": 2,
   "metadata": {},
   "outputs": [
    {
     "name": "stdout",
     "output_type": "stream",
     "text": [
      "Mercedes\n",
      "C-Class\n",
      "2024\n",
      "grey\n"
     ]
    }
   ],
   "source": [
    "third_vehicle = Vehicle('Mercedes', 'C-Class')\n",
    "\n",
    "print(third_vehicle.maker) # Mercedes\n",
    "print(third_vehicle.model) # C-Class\n",
    "print(third_vehicle.get_year()) # 2024\n",
    "print(third_vehicle.get_colour()) # grey"
   ]
  },
  {
   "cell_type": "markdown",
   "metadata": {},
   "source": [
    "#### Assignement 1\n",
    "\n",
    "Create a bank account class that has the following variables: account number, owner, balance, and pin. The last two variables should be private.\n",
    "\n",
    "Create a method to withdraw money from the account, but this action requires a password that should only be known inside the class.\n",
    "Make it so that the account can be topped up."
   ]
  },
  {
   "cell_type": "code",
   "execution_count": null,
   "metadata": {},
   "outputs": [],
   "source": [
    "class BankAccount:\n",
    "    def __init__(self, account_number, owner, balance, pin) :\n",
    "        self.account_number = account_number\n",
    "        self.owner= owner\n",
    "        self.__balance= balance\n",
    "        self.__pin= pin\n",
    "\n",
    "    def get_balance(self):\n",
    "        return self.__balance\n",
    "\n",
    "    def get_pin(self):\n",
    "        return self.__pin\n",
    "\n",
    "    def withdraw_money(self):\n",
    "        ammount_to_withdraw = int(input(\"Enter ammount to withdraw\"))\n",
    "        new_balance = self.__balance - ammount_to_withdraw\n",
    "\n",
    "\n",
    "\n",
    "user1 ="
   ]
  },
  {
   "cell_type": "markdown",
   "metadata": {},
   "source": [
    "### Private methods\n",
    "\n",
    "A private method is a method that is hidden from direct external access and is only accessible through other methods inside the class. It can be created by adding two `_` before its name. This gives the method the property of becoming private and not directly accessible from outside code, that is, code from another class cannot directly access this method."
   ]
  },
  {
   "cell_type": "code",
   "execution_count": null,
   "metadata": {},
   "outputs": [],
   "source": [
    "class Vehicle:\n",
    "    def __init__(self, maker, model, year=2024, colour='grey'):\n",
    "        self.maker = maker\n",
    "        self.model = model\n",
    "        self.__year = year\n",
    "        self.__colour = colour\n",
    "\n",
    "    def get_year(self):\n",
    "        return self.__year\n",
    "\n",
    "    def get_colour(self):\n",
    "        return self.__colour\n",
    "\n",
    "    def __change_colour(self, new_colour):\n",
    "        self.__colour = new_colour\n",
    "\n",
    "    def recolour(self, new_colour):\n",
    "        self.__change_colour(new_colour)"
   ]
  },
  {
   "cell_type": "code",
   "execution_count": null,
   "metadata": {},
   "outputs": [],
   "source": [
    "third_vehicle.recolour('red')\n",
    "print(third_vehicle.gauti_spalva()) # red"
   ]
  },
  {
   "cell_type": "markdown",
   "metadata": {},
   "source": [
    "#### Assignement 2\n",
    "\n",
    "Create a book class that has private variables: title, author, condition, and number of pages, and methods to get them.\n",
    "\n",
    "Create a method to change the status of a book where the only possible values are 'satisfactory', 'poor', 'updated', 'damaged'.\n",
    "\n",
    "Create a method to reduce the number of pages in the book using a private method that overrides that value. Must not increase the number of pages.\n",
    "\n"
   ]
  }
 ],
 "metadata": {
  "kernelspec": {
   "display_name": "Python 3",
   "language": "python",
   "name": "python3"
  },
  "language_info": {
   "codemirror_mode": {
    "name": "ipython",
    "version": 3
   },
   "file_extension": ".py",
   "mimetype": "text/x-python",
   "name": "python",
   "nbconvert_exporter": "python",
   "pygments_lexer": "ipython3",
   "version": "3.10.7"
  },
  "orig_nbformat": 4
 },
 "nbformat": 4,
 "nbformat_minor": 2
}
