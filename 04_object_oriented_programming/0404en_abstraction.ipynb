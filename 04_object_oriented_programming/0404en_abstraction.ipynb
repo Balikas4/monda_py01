{
 "cells": [
  {
   "cell_type": "markdown",
   "metadata": {},
   "source": [
    "# Abstraction\n",
    "\n",
    "Abstraction allows us to define a class, its attributes, and methods in such a way that they can be reused to avoid code repetition and reduce complexity.\n",
    "\n",
    "---\n",
    "## Internal Usage"
   ]
  },
  {
   "cell_type": "code",
   "execution_count": 1,
   "metadata": {},
   "outputs": [
    {
     "name": "stdout",
     "output_type": "stream",
     "text": [
      "Volkswagen Golf 2023 gray\n",
      "Stopped\n",
      "Driving at 10 km/h\n",
      "Driving at 20 km/h\n",
      "Driving at 40 km/h\n",
      "Driving at 200 km/h\n",
      "Driving at 100 km/h\n",
      "Driving at 50 km/h\n",
      "Stopped\n",
      "Reversing at 10 km/h\n",
      "Stopped\n"
     ]
    }
   ],
   "source": [
    "class Car:\n",
    "    def __init__(self, brand, model, year=2023, color='gray'):\n",
    "        self.brand = brand\n",
    "        self.model = model\n",
    "        self.year = year\n",
    "        self.color = color\n",
    "        self.max_speed = 200\n",
    "        self.__speed = 0\n",
    "\n",
    "    # This private abstract method will be used in several places\n",
    "    def __change_speed(self, speed):\n",
    "        if speed > self.max_speed:\n",
    "            speed = self.max_speed\n",
    "        if speed < -10:\n",
    "            speed = -10\n",
    "        self.__speed = speed\n",
    "        return speed\n",
    "\n",
    "    # This public abstract method will also be used in several places\n",
    "    def drive(self):\n",
    "        speed = self.__speed\n",
    "        if speed > 0:\n",
    "            print(f\"Driving at {speed} km/h\")\n",
    "        elif speed < 0:\n",
    "            print(f\"Reversing at {abs(speed)} km/h\")\n",
    "        else:\n",
    "            print(\"Stopped\")\n",
    "\n",
    "    def increase_speed(self, acceleration=10):\n",
    "        # Using the private method for limiting maximum speed\n",
    "        self.__change_speed(self.__speed + acceleration)\n",
    "        # Using the public method to output the driving situation\n",
    "        self.drive()\n",
    "\n",
    "    def decrease_speed(self, deceleration=10):\n",
    "        # Using the private method for limiting maximum speed\n",
    "        self.__change_speed(self.__speed - deceleration)\n",
    "        # Using the public method to output the driving situation\n",
    "        self.drive()\n",
    "\n",
    "car = Car(\"Volkswagen\", \"Golf\")\n",
    "print(car.brand, car.model, car.year, car.color)\n",
    "car.drive()\n",
    "car.increase_speed()\n",
    "car.increase_speed()\n",
    "car.increase_speed(20)\n",
    "car.increase_speed(170)\n",
    "car.decrease_speed(100)\n",
    "car.decrease_speed(50)\n",
    "car.decrease_speed(50)\n",
    "car.decrease_speed()\n",
    "car.increase_speed()\n"
   ]
  },
  {
   "cell_type": "markdown",
   "metadata": {},
   "source": [
    "---\n",
    "## Using Abstract Properties and Methods in Inherited Classes\n",
    "\n",
    "Example - in inherited functions, we simply use all the methods:"
   ]
  },
  {
   "cell_type": "code",
   "execution_count": 2,
   "metadata": {},
   "outputs": [
    {
     "name": "stdout",
     "output_type": "stream",
     "text": [
      "Tesla Model-3 2023 gray\n",
      "Stopped\n",
      "Driving at 100 km/h\n"
     ]
    }
   ],
   "source": [
    "class ElectricCar(Car):\n",
    "    pass\n",
    "\n",
    "tesla = ElectricCar(\"Tesla\", \"Model-3\")\n",
    "print(tesla.brand, tesla.model, tesla.year, tesla.color) # Tesla Model 3 2023 gray\n",
    "tesla.drive() # Stopped\n",
    "tesla.increase_speed(100) # Driving at 100 km/h"
   ]
  },
  {
   "cell_type": "markdown",
   "metadata": {},
   "source": [
    "---\n",
    "## Abstract `__init__` Method with Unlimited Keyword Arguments"
   ]
  },
  {
   "cell_type": "code",
   "execution_count": 3,
   "metadata": {},
   "outputs": [
    {
     "name": "stdout",
     "output_type": "stream",
     "text": [
      "Volkswagen Golf, 2023 gray. Engine: 1.6ti gasoline. Max. 200 km/h\n",
      "Opel Astra, 2023 gray. Engine: 1.6 gasoline. Max. 160 km/h\n"
     ]
    }
   ],
   "source": [
    "class Car:\n",
    "    def __init__(self, brand, model, year=2023, color='gray', **kwargs):\n",
    "        self.brand = brand\n",
    "        self.model = model\n",
    "        self.year = year\n",
    "        self.color = color\n",
    "        self.max_speed = 200\n",
    "        for key, value in kwargs.items():\n",
    "            setattr(self, key, value)\n",
    "        self.__speed = 0\n",
    "\n",
    "car = Car(\"Volkswagen\", \"Golf\", fuel_type=\"gasoline\", engine=\"1.6ti\")\n",
    "print(f\"{car.brand} {car.model}, {car.year} {car.color}. Engine: {car.engine} {car.fuel_type}. Max. {car.max_speed} km/h\")\n",
    "# Volkswagen Golf, 2023 gray. Engine: 1.6ti gasoline. Max. 200 km/h\n",
    "\n",
    "astra = Car(\"Opel\", \"Astra\", fuel_type=\"gasoline\", engine=\"1.6\", max_speed=160)\n",
    "print(f\"{astra.brand} {astra.model}, {astra.year} {astra.color}. Engine: {astra.engine} {astra.fuel_type}. Max. {astra.max_speed} km/h\")\n",
    "# Opel Astra, 2023 gray. Engine: 1.6 gasoline. Max. 160 km/h"
   ]
  },
  {
   "cell_type": "markdown",
   "metadata": {},
   "source": [
    "- Note: In this case, please note that the default value can be changed using `kwargs` if processing `kwargs` is done after setting the default value.\n",
    "---\n",
    "## Abstract Function for Printing Class Object Information"
   ]
  },
  {
   "cell_type": "code",
   "execution_count": null,
   "metadata": {},
   "outputs": [],
   "source": [
    "def information(obj):\n",
    "    print(f\"{obj.brand} {obj.model}, {obj.year} {obj.color}. Engine: {obj.engine} {obj.fuel_type}. Max. {obj.max_speed} km/h\")\n",
    "\n",
    "information(car)\n",
    "information(astra)"
   ]
  },
  {
   "cell_type": "markdown",
   "metadata": {},
   "source": [
    "### `Assignment: private attributes, and class methods`\n",
    "\n",
    "You are tasked with implementing a simple `BankAccount` class that allows you to deposit and withdraw money. However, the balance should be protected as a private attribute and should only be modified through methods.\n",
    "\n",
    "Class Requirements:\n",
    "\n",
    "1. Create a `BankAccount` class with the following methods:\n",
    "- `__init__(self, account_holder, balance=0.0):` Initializes the bank account with an account holder's name and an optional initial balance (default is 0.0).\n",
    "- `deposit(self, amount):` Adds the specified amount to the account balance.\n",
    "- `withdraw(self, amount):` Subtracts the specified amount from the account balance if there are sufficient funds; otherwise, it prints a message stating that there are insufficient funds.\n",
    "- `get_balance(self):` Returns the current balance of the account.\n",
    "\n",
    ">Instructions:\n",
    "\n",
    "1. Create the `BankAccount` class with the specified methods.\n",
    "1. Implement the methods to manipulate the account balance appropriately, ensuring that the balance attribute is private and abstract.\n",
    "1. Create an instance of the BankAccount class and perform the following operations:\n",
    "- Initialize the account with a balance of $1000 for an account holder named \"John Doe.\"\n",
    "- Deposit $500 into the account.\n",
    "- Withdraw $200 from the account.\n",
    "- Attempt to withdraw $800 from the account.\n",
    "- Print the account balance."
   ]
  },
  {
   "cell_type": "code",
   "execution_count": 3,
   "metadata": {},
   "outputs": [
    {
     "name": "stdout",
     "output_type": "stream",
     "text": [
      "Current balance: 1000\n",
      "Deposited: 500\n",
      "New balance: 1500.00\n",
      "Current balance: 1500\n",
      "Withdrawn: 200\n",
      "New balance: 1300.00\n",
      "Current balance: 1300\n",
      "Withdrawn: 800\n",
      "New balance: 500.00\n",
      "\n",
      "John Doe\n",
      "Account Balance: 500              \n"
     ]
    }
   ],
   "source": [
    "class BankAccount:\n",
    "    def __init__(self, account_holder, balance= 0) :\n",
    "        self.account_holder = account_holder\n",
    "        self.__balance= balance\n",
    "\n",
    "    def get_balance(self):\n",
    "        return self.__balance\n",
    "\n",
    "    def withdraw_money(self, ammount_to_withdraw):\n",
    "        print(f\"Current balance: {self.__balance}\")\n",
    "        self.__balance -= ammount_to_withdraw\n",
    "        print(f\"Withdrawn: {ammount_to_withdraw}\\nNew balance: {self.__balance:.2f}\")\n",
    "\n",
    "    def top_up(self, ammount_to_top_up):\n",
    "        print(f\"Current balance: {self.__balance}\")\n",
    "        new_balance = self.__balance + ammount_to_top_up\n",
    "        self.__balance = new_balance\n",
    "        print(f\"Deposited: {ammount_to_top_up}\\nNew balance: {self.__balance:.2f}\")\n",
    "\n",
    "user1= BankAccount(\"John Doe\", 1000)\n",
    "\n",
    "user1.top_up(500)\n",
    "user1.withdraw_money(200)\n",
    "user1.withdraw_money(800)\n",
    "print(f\"\\n{user1.account_holder}\\nAccount Balance: {user1.get_balance()}              \")\n",
    "\n",
    "\n",
    "# user1 = BankAccount(\"Liucija\", 123123123, 1337420, 4242)\n",
    "\n",
    "# print(user1.get_balance())\n",
    "# print(user1.get_pin())\n",
    "# user1.withdraw_money()"
   ]
  },
  {
   "cell_type": "code",
   "execution_count": null,
   "metadata": {},
   "outputs": [],
   "source": []
  },
  {
   "cell_type": "code",
   "execution_count": null,
   "metadata": {},
   "outputs": [],
   "source": []
  },
  {
   "cell_type": "code",
   "execution_count": null,
   "metadata": {},
   "outputs": [],
   "source": []
  }
 ],
 "metadata": {
  "kernelspec": {
   "display_name": "Python 3",
   "language": "python",
   "name": "python3"
  },
  "language_info": {
   "codemirror_mode": {
    "name": "ipython",
    "version": 3
   },
   "file_extension": ".py",
   "mimetype": "text/x-python",
   "name": "python",
   "nbconvert_exporter": "python",
   "pygments_lexer": "ipython3",
   "version": "3.10.7"
  },
  "orig_nbformat": 4
 },
 "nbformat": 4,
 "nbformat_minor": 2
}
