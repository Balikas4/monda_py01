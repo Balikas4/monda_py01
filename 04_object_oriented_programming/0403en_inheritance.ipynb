{
 "cells": [
  {
   "cell_type": "markdown",
   "metadata": {},
   "source": [
    "## Inheritance\n",
    "\n"
   ]
  },
  {
   "cell_type": "markdown",
   "metadata": {},
   "source": [
    "One of the characteristics of object-oriented programming is inheritance. This means that a class can inherit the properties and methods of another class. Inheritance helps reduce code by allowing you to create new classes that use properties and methods from pre-existing classes."
   ]
  },
  {
   "cell_type": "code",
   "execution_count": null,
   "metadata": {},
   "outputs": [],
   "source": [
    "class ElectricCar(Car):\n",
    "     fuel_type = 'electricity'\n",
    "\n",
    "     def max_speed(self):\n",
    "         print('This car can go up to 350 km/h')\n",
    "         return 350\n",
    "\n",
    "tesla_sp = ElectricCar('Tesla', 'Model S Plaid', year=2022, color='red')"
   ]
  },
  {
   "cell_type": "markdown",
   "metadata": {},
   "source": [
    "In this example, we've created an object that inherits properties and methods from the Car class, but has its own unique 'max_speed' method."
   ]
  },
  {
   "cell_type": "code",
   "execution_count": null,
   "metadata": {},
   "outputs": [],
   "source": [
    "print(tesla_sp.maker) # Tesla\n",
    "print(tesla_sp.model) # Model S Plaid\n",
    "print(tesla_sp.get_year()) # 2022\n",
    "print(tesla_sp.get_color()) # red\n",
    "\n",
    "tesla_sp.change_color(\"yellow\")\n",
    "print(tesla_sp.get_color()) # yellow\n",
    "\n",
    "print(tesla_sp.fuel_type) # electricity\n",
    "tesla_sp.max_speed() # This car can go up to 350 km/h"
   ]
  },
  {
   "cell_type": "markdown",
   "metadata": {},
   "source": [
    "### Object belonging to class\n",
    "\n",
    "`isinstance` is a function that allows you to check if an object belongs to a certain class. This function returns `True` if the object is an object of that class or the object's class inherits from the specified class, and `False` otherwise. For example:"
   ]
  },
  {
   "cell_type": "code",
   "execution_count": null,
   "metadata": {},
   "outputs": [],
   "source": [
    "tesla_sp = ElectricCar('Tesla', 'Model S Plaid')\n",
    "audi = Car(\"Audi\", \"A4\")\n",
    "\n",
    "print(isinstance(audi, Car)) # True\n",
    "print(isinstance(tesla_sp, Car)) # True\n",
    "print(isinstance(audi, ElectricCar)) # False\n",
    "print(isinstance(tesla_sp, ElectricCar)) # True"
   ]
  },
  {
   "cell_type": "markdown",
   "metadata": {},
   "source": [
    "\n",
    "### Assignement 1\n",
    "\n",
    "Create a class \"Animal\" and classes \"Cat\" and \"Dog\" that inherit the attributes and methods of the parent class.\n",
    "Each inherited class must have its own unique \"voice\" and \"move\" method.\n",
    "Create multiple objects belonging to different classes, give them names, and call their methods."
   ]
  },
  {
   "cell_type": "code",
   "execution_count": 83,
   "metadata": {},
   "outputs": [
    {
     "name": "stdout",
     "output_type": "stream",
     "text": [
      "Cat named Jumper moves like: Jump jump jump and sound like: MEEOW\n",
      "\n",
      "Dog named Skittles moves like: Run run run and sound like: WOOOF\n",
      "\n",
      "Cat Jumper from now on sounds like: MIAUSONAS\n",
      "\n",
      "Cat named Jumper moves like: Jump jump jump and sound like: MIAUSONAS\n",
      "\n",
      "Dog Skittles from now on sounds like: WOOFSONAS\n",
      "\n",
      "Dog named Skittles moves like: Run run run and sound like: WOOFSONAS\n",
      "\n"
     ]
    }
   ],
   "source": [
    "class Animal:\n",
    "    def __init__(self, limb_count= 4, eye_count= 2):\n",
    "        self.limb_count = limb_count\n",
    "        self.eye_count = eye_count\n",
    "    def __str__(self):\n",
    "        return f'Animal has {self.limb_count} limbs and {self.eye_count} eyes\\n'\n",
    "    def get_limb_count(self):\n",
    "        return self.limb_count\n",
    "    def get_eye_count(self):\n",
    "        return self.eye_count\n",
    "\n",
    "class Cat(Animal):\n",
    "    def __init__(self, move= \"Jump jump jump\", voice= \"MEEOW\", name =\"Unnamed\"):\n",
    "        self.move= move\n",
    "        self.voice= voice\n",
    "        self.name= name\n",
    "    def __str__(self):\n",
    "        return f'Cat named {self.name} moves like: {self.move} and sound like: {self.voice}\\n'\n",
    "    def change_voice(self):\n",
    "        new_cat_voice = input(\"Input new cat voice\")\n",
    "        self.voice = new_cat_voice\n",
    "        print(f'Cat {self.name} from now on sounds like: {self.voice}\\n')\n",
    "        \n",
    "\n",
    "class Dog(Animal):\n",
    "    def __init__(self, move= \"Run run run\", voice= \"WOOOF\", name= \"Unnamed\"):\n",
    "        self.move= move\n",
    "        self.voice= voice\n",
    "        self.name= name\n",
    "    def __str__(self):\n",
    "        return f'Dog named {self.name} moves like: {self.move} and sound like: {self.voice}\\n'\n",
    "    def change_voice(self):\n",
    "        new_dog_voice = input(\"Input new dog voice\")\n",
    "        self.voice = new_dog_voice\n",
    "        print(f'Dog {self.name} from now on sounds like: {self.voice}\\n')\n",
    "\n",
    "\n",
    "cat1 = Cat(name= \"Jumper\")\n",
    "print(cat1)\n",
    "dog1 = Dog(name= \"Skittles\")\n",
    "print(dog1)\n",
    "cat1.change_voice()\n",
    "print(cat1)\n",
    "dog1.change_voice()\n",
    "print(dog1)"
   ]
  },
  {
   "cell_type": "markdown",
   "metadata": {},
   "source": [
    "### Assignement 2\n",
    "\n",
    "Check the dependencies of the objects created in the first task on existing classes."
   ]
  },
  {
   "cell_type": "code",
   "execution_count": 84,
   "metadata": {},
   "outputs": [
    {
     "name": "stdout",
     "output_type": "stream",
     "text": [
      "True\n",
      "True\n",
      "False\n",
      "True\n",
      "False\n",
      "True\n"
     ]
    }
   ],
   "source": [
    "print(isinstance(cat1, Animal))\n",
    "print(isinstance(cat1, Cat))\n",
    "print(isinstance(cat1, Dog))\n",
    "print(isinstance(dog1, Animal))\n",
    "print(isinstance(dog1, Cat))\n",
    "print(isinstance(dog1, Dog))\n"
   ]
  }
 ],
 "metadata": {
  "kernelspec": {
   "display_name": "Python 3",
   "language": "python",
   "name": "python3"
  },
  "language_info": {
   "codemirror_mode": {
    "name": "ipython",
    "version": 3
   },
   "file_extension": ".py",
   "mimetype": "text/x-python",
   "name": "python",
   "nbconvert_exporter": "python",
   "pygments_lexer": "ipython3",
   "version": "3.10.7"
  },
  "orig_nbformat": 4
 },
 "nbformat": 4,
 "nbformat_minor": 2
}
