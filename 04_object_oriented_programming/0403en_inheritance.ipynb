{
 "cells": [
  {
   "cell_type": "markdown",
   "metadata": {},
   "source": [
    "## Inheritance\n",
    "\n"
   ]
  },
  {
   "cell_type": "markdown",
   "metadata": {},
   "source": [
    "One of the characteristics of object-oriented programming is inheritance. This means that a class can inherit the properties and methods of another class. Inheritance helps reduce code by allowing you to create new classes that use properties and methods from pre-existing classes."
   ]
  },
  {
   "cell_type": "code",
   "execution_count": 1,
   "metadata": {},
   "outputs": [
    {
     "ename": "NameError",
     "evalue": "name 'Car' is not defined",
     "output_type": "error",
     "traceback": [
      "\u001b[1;31m---------------------------------------------------------------------------\u001b[0m",
      "\u001b[1;31mNameError\u001b[0m                                 Traceback (most recent call last)",
      "Cell \u001b[1;32mIn[1], line 1\u001b[0m\n\u001b[1;32m----> 1\u001b[0m \u001b[38;5;28;01mclass\u001b[39;00m \u001b[38;5;21;01mElectricCar\u001b[39;00m(\u001b[43mCar\u001b[49m):\n\u001b[0;32m      2\u001b[0m      fuel_type \u001b[38;5;241m=\u001b[39m \u001b[38;5;124m'\u001b[39m\u001b[38;5;124melectricity\u001b[39m\u001b[38;5;124m'\u001b[39m\n\u001b[0;32m      4\u001b[0m      \u001b[38;5;28;01mdef\u001b[39;00m \u001b[38;5;21mmax_speed\u001b[39m(\u001b[38;5;28mself\u001b[39m):\n",
      "\u001b[1;31mNameError\u001b[0m: name 'Car' is not defined"
     ]
    }
   ],
   "source": [
    "class ElectricCar(Car):\n",
    "     fuel_type = 'electricity'\n",
    "\n",
    "     def max_speed(self):\n",
    "         print('This car can go up to 350 km/h')\n",
    "         return 350\n",
    "\n",
    "tesla_sp = ElectricCar('Tesla', 'Model S Plaid', year=2022, color='red')"
   ]
  },
  {
   "cell_type": "markdown",
   "metadata": {},
   "source": [
    "In this example, we've created an object that inherits properties and methods from the Car class, but has its own unique 'max_speed' method."
   ]
  },
  {
   "cell_type": "code",
   "execution_count": null,
   "metadata": {},
   "outputs": [],
   "source": [
    "print(tesla_sp.maker) # Tesla\n",
    "print(tesla_sp.model) # Model S Plaid\n",
    "print(tesla_sp.get_year()) # 2022\n",
    "print(tesla_sp.get_color()) # red\n",
    "\n",
    "tesla_sp.change_color(\"yellow\")\n",
    "print(tesla_sp.get_color()) # yellow\n",
    "\n",
    "print(tesla_sp.fuel_type) # electricity\n",
    "tesla_sp.max_speed() # This car can go up to 350 km/h"
   ]
  },
  {
   "cell_type": "markdown",
   "metadata": {},
   "source": [
    "### Object belonging to class\n",
    "\n",
    "`isinstance` is a function that allows you to check if an object belongs to a certain class. This function returns `True` if the object is an object of that class or the object's class inherits from the specified class, and `False` otherwise. For example:"
   ]
  },
  {
   "cell_type": "code",
   "execution_count": null,
   "metadata": {},
   "outputs": [],
   "source": [
    "tesla_sp = ElectricCar('Tesla', 'Model S Plaid')\n",
    "audi = Car(\"Audi\", \"A4\")\n",
    "\n",
    "print(isinstance(audi, Car)) # True\n",
    "print(isinstance(tesla_sp, Car)) # True\n",
    "print(isinstance(audi, ElectricCar)) # False\n",
    "print(isinstance(tesla_sp, ElectricCar)) # True"
   ]
  },
  {
   "cell_type": "markdown",
   "metadata": {},
   "source": [
    "\n",
    "### Assignement 1\n",
    "\n",
    "Create a class \"Animal\" and classes \"Cat\" and \"Dog\" that inherit the attributes and methods of the parent class.\n",
    "Each inherited class must have its own unique \"voice\" and \"move\" method.\n",
    "Create multiple objects belonging to different classes, give them names, and call their methods."
   ]
  },
  {
   "cell_type": "code",
   "execution_count": null,
   "metadata": {},
   "outputs": [],
   "source": [
    "class Animal:\n",
    "    def __init__(self, limb_count= 4, eye_count= 2):\n",
    "        self.limb_count = limb_count\n",
    "        self.eye_count = eye_count\n",
    "\n",
    "class Animal(Cat):\n",
    "    self.move= move\n",
    "    self.voice= voice\n",
    "\n",
    "class Animal(Dog):\n",
    "    self.move= move\n",
    "    self.voice= voice\n",
    "\n",
    "\n",
    "cat1 = Cat(\"meooow\", \"jump\")\n",
    "\n",
    "# class ElectricCar(Car):\n",
    "#      fuel_type = 'electricity'\n",
    "\n",
    "#      def max_speed(self):\n",
    "#          print('This car can go up to 350 km/h')\n",
    "#          return 350\n",
    "\n",
    "# tesla_sp = ElectricCar('Tesla', 'Model S Plaid', year=2022, color='red')\n"
   ]
  },
  {
   "cell_type": "markdown",
   "metadata": {},
   "source": [
    "### Assignement 2\n",
    "\n",
    "Check the dependencies of the objects created in the first task on existing classes."
   ]
  }
 ],
 "metadata": {
  "kernelspec": {
   "display_name": "Python 3",
   "language": "python",
   "name": "python3"
  },
  "language_info": {
   "codemirror_mode": {
    "name": "ipython",
    "version": 3
   },
   "file_extension": ".py",
   "mimetype": "text/x-python",
   "name": "python",
   "nbconvert_exporter": "python",
   "pygments_lexer": "ipython3",
   "version": "3.10.7"
  },
  "orig_nbformat": 4
 },
 "nbformat": 4,
 "nbformat_minor": 2
}
