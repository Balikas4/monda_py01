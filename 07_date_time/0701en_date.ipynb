{
 "cells": [
  {
   "cell_type": "markdown",
   "metadata": {},
   "source": [
    "# Time and Date Formatting"
   ]
  },
  {
   "cell_type": "markdown",
   "metadata": {},
   "source": [
    "### `datetime` class"
   ]
  },
  {
   "cell_type": "code",
   "execution_count": 1,
   "metadata": {},
   "outputs": [
    {
     "name": "stdout",
     "output_type": "stream",
     "text": [
      "2023-10-26 18:58:20\n"
     ]
    }
   ],
   "source": [
    "from datetime import datetime\n",
    "\n",
    "now = datetime(2023, 10, 26, 18, 58, 20)\n",
    "\n",
    "print(now)"
   ]
  },
  {
   "cell_type": "markdown",
   "metadata": {},
   "source": [
    "### `datetime.now()` function"
   ]
  },
  {
   "cell_type": "code",
   "execution_count": 2,
   "metadata": {},
   "outputs": [
    {
     "name": "stdout",
     "output_type": "stream",
     "text": [
      "2024-01-08 15:34:22.650381\n"
     ]
    }
   ],
   "source": [
    "from datetime import datetime\n",
    "\n",
    "now = datetime.now()\n",
    "# turns current date into an object\n",
    "\n",
    "print(now) # you will get standart time\n",
    "\n"
   ]
  },
  {
   "cell_type": "markdown",
   "metadata": {},
   "source": [
    "### Quick Assignement 1\n",
    "\n",
    "Write a program that would give a current time, but it would give only minutes and seconds"
   ]
  },
  {
   "cell_type": "code",
   "execution_count": 24,
   "metadata": {},
   "outputs": [
    {
     "name": "stdout",
     "output_type": "stream",
     "text": [
      "21:10\n"
     ]
    }
   ],
   "source": [
    "from datetime import datetime\n",
    "\n",
    "now = datetime.now()\n",
    "format_string = \"%M:%S\"\n",
    "\n",
    "time = now.strftime(format_string)\n",
    "print(time)"
   ]
  },
  {
   "cell_type": "markdown",
   "metadata": {},
   "source": [
    "### `date` class"
   ]
  },
  {
   "cell_type": "code",
   "execution_count": 3,
   "metadata": {},
   "outputs": [
    {
     "name": "stdout",
     "output_type": "stream",
     "text": [
      "2023-11-26\n"
     ]
    }
   ],
   "source": [
    "from datetime import date\n",
    "\n",
    "# verys similar to `datetime` but we do not get the time\n",
    "\n",
    "today = date(2023, 11, 26)\n",
    "\n",
    "print(today)"
   ]
  },
  {
   "cell_type": "markdown",
   "metadata": {},
   "source": [
    "### `date.today()` function"
   ]
  },
  {
   "cell_type": "code",
   "execution_count": 9,
   "metadata": {},
   "outputs": [
    {
     "name": "stdout",
     "output_type": "stream",
     "text": [
      "2024-01-08\n"
     ]
    }
   ],
   "source": [
    "from datetime import date\n",
    "\n",
    "# very similar `datetime.now()` function, however, we do not get the time\n",
    "\n",
    "today = date.today()\n",
    "\n",
    "print(today)"
   ]
  },
  {
   "cell_type": "markdown",
   "metadata": {},
   "source": [
    "### `datetime.timedelta` class"
   ]
  },
  {
   "cell_type": "code",
   "execution_count": 10,
   "metadata": {},
   "outputs": [
    {
     "name": "stdout",
     "output_type": "stream",
     "text": [
      "Current time: 2024-01-08 15:44:35.754450\n",
      "After 8 days : 2024-01-16 15:44:35.754450\n",
      "4 hours ago: 2024-01-08 11:44:35.754450\n"
     ]
    }
   ],
   "source": [
    "from datetime import datetime, timedelta\n",
    "\n",
    "now = datetime.now()\n",
    "print(\"Current time:\", now)\n",
    "\n",
    "# We add 8 days to current date\n",
    "after_8_days = now + timedelta(days=8)\n",
    "print(\"After 8 days :\", after_8_days)\n",
    "\n",
    "# We substract 4 hours from the current time\n",
    "four_hours_ago = now - timedelta(hours=4)\n",
    "print(\"4 hours ago:\", four_hours_ago)\n"
   ]
  },
  {
   "cell_type": "markdown",
   "metadata": {},
   "source": [
    "### Math with date and time"
   ]
  },
  {
   "cell_type": "code",
   "execution_count": 11,
   "metadata": {},
   "outputs": [
    {
     "name": "stdout",
     "output_type": "stream",
     "text": [
      "Difference between dates: 852 days, 0:00:00\n"
     ]
    }
   ],
   "source": [
    "\n",
    "# Difference between two dates\n",
    "date1 = datetime(2023, 10, 17)\n",
    "date2 = datetime(2021, 6, 17)\n",
    "difference = date1 - date2\n",
    "print(\"Difference between dates:\", difference)\n"
   ]
  },
  {
   "cell_type": "markdown",
   "metadata": {},
   "source": [
    "## Date and time formating `strftime`\n",
    "\n",
    "`datetime` module function `strftime` permits to transform time and date object into a string.\n"
   ]
  },
  {
   "cell_type": "code",
   "execution_count": 12,
   "metadata": {},
   "outputs": [
    {
     "name": "stdout",
     "output_type": "stream",
     "text": [
      "2023-10-26 19:30:00\n"
     ]
    }
   ],
   "source": [
    "from datetime import datetime\n",
    "\n",
    "date = datetime(2023, 10, 26, 19, 30, 0) # we enter the date\n",
    "string_formant = \"%Y-%m-%d %H:%M:%S\" # we enter the string \n",
    "\n",
    "date_string = date.strftime(string_formant)\n",
    "print(date_string)"
   ]
  },
  {
   "cell_type": "markdown",
   "metadata": {},
   "source": [
    "%Y, %m, %d, %H, %M ir %S symbols correspont to years, months, days, hours, minutes and seconds"
   ]
  },
  {
   "cell_type": "markdown",
   "metadata": {},
   "source": [
    "### Quick Assignement 2\n",
    "\n",
    "Create a function that accepts a date of birth as a string (in the format \"%Y-%m-%d\") and returns the number of days until your birthday"
   ]
  },
  {
   "cell_type": "code",
   "execution_count": 4,
   "metadata": {},
   "outputs": [
    {
     "name": "stdout",
     "output_type": "stream",
     "text": [
      "Current date: 2024-01-09\n",
      "Birthday date: 1996-12-09\n"
     ]
    },
    {
     "data": {
      "text/plain": [
       "datetime.timedelta(days=335)"
      ]
     },
     "execution_count": 4,
     "metadata": {},
     "output_type": "execute_result"
    }
   ],
   "source": [
    "from datetime import date\n",
    "\n",
    "now = date.today()\n",
    "print(\"Current date:\", now)\n",
    "now_year = int(now.year)\n",
    "now_month = int(now.month)\n",
    "now_day = int(now.day)\n",
    "\n",
    "def days_untill_bday(input_birthday_str):\n",
    "    parts = input_birthday_str.split(\"-\")\n",
    "    year = int(parts[0])\n",
    "    month = int(parts[1])\n",
    "    day = int(parts[2])\n",
    "    bday_date =date(year=year, month=month, day=day)\n",
    "    bday_this_year = date(year=now_year, month=month, day=day)\n",
    "    bday_next_year = date(year=now_year+1, month=month, day=day)\n",
    "    print(\"Birthday date:\", bday_date)\n",
    "    if now_month > month and now_day > day:\n",
    "        result = bday_next_year - now\n",
    "        return result\n",
    "    else:\n",
    "        result = bday_this_year - now\n",
    "        return result\n",
    "\n",
    "days_untill_bday(\"1996-12-09\")\n"
   ]
  },
  {
   "cell_type": "markdown",
   "metadata": {},
   "source": [
    "## Formatting date and time from string using `strptime`"
   ]
  },
  {
   "cell_type": "markdown",
   "metadata": {},
   "source": [
    "Python allows you to format a string of text into a datetime object."
   ]
  },
  {
   "cell_type": "code",
   "execution_count": 1,
   "metadata": {},
   "outputs": [
    {
     "name": "stdout",
     "output_type": "stream",
     "text": [
      "2023-10-26 19:30:00\n"
     ]
    }
   ],
   "source": [
    "from datetime import datetime\n",
    "\n",
    "date = \"2023-10-26 19:30:00\"\n",
    "string_format = \"%Y-%m-%d %H:%M:%S\"\n",
    "\n",
    "date_object = datetime.strptime(date, string_format)\n",
    "print(date_object)"
   ]
  },
  {
   "cell_type": "markdown",
   "metadata": {},
   "source": [
    "### Quick Assignement 3\n",
    "\n",
    "Write a program that accepts a date and time in string format (for example, \"2023-05-21 15:30\"), adds 48 hours to it, and returns the new date and time in string format."
   ]
  },
  {
   "cell_type": "code",
   "execution_count": 10,
   "metadata": {},
   "outputs": [
    {
     "name": "stdout",
     "output_type": "stream",
     "text": [
      "Your date: 2023-10-26 19:30:00\n",
      "After 48 hrs:  2023-10-28 19:30:00\n"
     ]
    }
   ],
   "source": [
    "from datetime import datetime, timedelta\n",
    "\n",
    "def add_8_hrs(date):\n",
    "    string_format = \"%Y-%m-%d %H:%M\"\n",
    "    date_object = datetime.strptime(date, string_format)\n",
    "    print(\"Your date:\", date_object)\n",
    "    after_48_hrs = date_object + timedelta(hours=48)\n",
    "    print(\"After 48 hrs: \", after_48_hrs)\n",
    "\n",
    "add_8_hrs(\"2023-10-26 19:30\")"
   ]
  },
  {
   "cell_type": "markdown",
   "metadata": {},
   "source": [
    "## Representing dates and times as numbers using `timestamp`\n",
    "\n",
    "Timestamp is a number that shows how many seconds have passed since 1970. January 1, 00:00:00 (UTC). Python allows you to convert datetime objects to timestamps and back. Here's how to do it:"
   ]
  },
  {
   "cell_type": "code",
   "execution_count": 11,
   "metadata": {},
   "outputs": [
    {
     "name": "stdout",
     "output_type": "stream",
     "text": [
      "1698334200.0\n"
     ]
    }
   ],
   "source": [
    "\n",
    "from datetime import datetime\n",
    "import time\n",
    "\n",
    "date_obj = datetime(2023, 10, 26, 18, 30, 0)\n",
    "\n",
    "timestamp = time.mktime(date_obj.timetuple())\n",
    "print(timestamp)\n"
   ]
  },
  {
   "cell_type": "markdown",
   "metadata": {},
   "source": [
    "\n",
    "### Converting timestamp into a date object\n"
   ]
  },
  {
   "cell_type": "code",
   "execution_count": 12,
   "metadata": {},
   "outputs": [
    {
     "name": "stdout",
     "output_type": "stream",
     "text": [
      "2023-10-26 19:30:00\n"
     ]
    }
   ],
   "source": [
    "\n",
    "from datetime import datetime\n",
    "import time\n",
    "\n",
    "timestamp = 1698337800\n",
    "\n",
    "date_obj = datetime.fromtimestamp(timestamp)\n",
    "print(date_obj)\n"
   ]
  },
  {
   "cell_type": "markdown",
   "metadata": {},
   "source": [
    "### Quick Assignement 4\n",
    "\n",
    "Write a program that accepts two periods as timestamps and returns the difference in days between the periods."
   ]
  },
  {
   "cell_type": "code",
   "execution_count": 16,
   "metadata": {},
   "outputs": [
    {
     "name": "stdout",
     "output_type": "stream",
     "text": [
      "68 days, 5:13:20\n"
     ]
    }
   ],
   "source": [
    "timestamp_1 = 1698337800\n",
    "timestamp_2 = 1692443800\n",
    "\n",
    "date_obj_1 = datetime.fromtimestamp(timestamp_1)\n",
    "date_obj_2 = datetime.fromtimestamp(timestamp_2)\n",
    "\n",
    "new_date = date_obj_1 - date_obj_2\n",
    "print(new_date)"
   ]
  },
  {
   "cell_type": "markdown",
   "metadata": {},
   "source": [
    "### Quick Assignement 5\n",
    "\n",
    "Create a function that accepts a date as a string (for example, \"06/01/2023\") and returns what day of the week that date is (for example, \"Monday\", \"Tuesday\", etc.)."
   ]
  },
  {
   "cell_type": "code",
   "execution_count": 39,
   "metadata": {},
   "outputs": [
    {
     "name": "stdout",
     "output_type": "stream",
     "text": [
      "Your input date: Monday\n"
     ]
    }
   ],
   "source": [
    "from datetime import datetime\n",
    "\n",
    "def what_weekday(date_input):\n",
    "    string_format = \"%Y-%m-%d\"\n",
    "    date_object = datetime.strptime(date_input, string_format)\n",
    "    print(\"Your input date:\", date_object.strftime(\"%A\"))\n",
    "\n",
    "what_weekday(\"2323-12-10\")"
   ]
  }
 ],
 "metadata": {
  "kernelspec": {
   "display_name": "venv",
   "language": "python",
   "name": "venv"
  },
  "language_info": {
   "codemirror_mode": {
    "name": "ipython",
    "version": 3
   },
   "file_extension": ".py",
   "mimetype": "text/x-python",
   "name": "python",
   "nbconvert_exporter": "python",
   "pygments_lexer": "ipython3",
   "version": "3.12.1"
  }
 },
 "nbformat": 4,
 "nbformat_minor": 2
}
