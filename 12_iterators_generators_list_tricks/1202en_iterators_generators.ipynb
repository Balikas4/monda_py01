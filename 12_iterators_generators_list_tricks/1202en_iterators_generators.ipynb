{
 "cells": [
  {
   "cell_type": "markdown",
   "metadata": {},
   "source": [
    "# Iterators and Generators\n",
    "\n",
    "## Iterator and `iter()` method\n",
    "\n",
    "An iterator is an object that supports iteration over elements or values.\n",
    "\n",
    "Iterator utilizes a set of two methods: `iter()` and `next()`.\n",
    "\n",
    "**Example**:"
   ]
  },
  {
   "cell_type": "code",
   "execution_count": null,
   "metadata": {},
   "outputs": [],
   "source": [
    "# Create a list\n",
    "my_list = [1, 2, 3, 4, 5]\n",
    "\n",
    "# Create an iterator object\n",
    "my_iterator = iter(my_list)\n",
    "\n",
    "# Iterate over iterator elements using the next() method\n",
    "try:\n",
    "    print(next(my_iterator))  # 1\n",
    "    print(next(my_iterator))  # 2\n",
    "    print(next(my_iterator))  # 3\n",
    "    print(next(my_iterator))  # 4\n",
    "    print(next(my_iterator))  # 5\n",
    "    print(next(my_iterator))  # Raises StopIteration exception\n",
    "except StopIteration:\n",
    "    print(\"Iteration finished\")\n"
   ]
  },
  {
   "cell_type": "markdown",
   "metadata": {},
   "source": [
    "- In this program, we created a list \"my_list\" and then created an iterator object \"my_iterator\" using the `iter()` method. \n",
    "- We then iterated over the iterator elements using the `next()` method, printing each element, and used a try-except block to handle the `StopIteration` exception that is raised when we try to iterate more elements than there are."
   ]
  },
  {
   "cell_type": "markdown",
   "metadata": {},
   "source": [
    "# `Quick Assignment 1: Basic Iterator`\n",
    "\n",
    "1. Create a `list` of your favorite fruits.\n",
    "1. Create an iterator `object` for the list.\n",
    "1. Iterate over the iterator using the `next()` method and `print` each fruit."
   ]
  },
  {
   "cell_type": "code",
   "execution_count": null,
   "metadata": {},
   "outputs": [],
   "source": [
    "# Your code here"
   ]
  },
  {
   "cell_type": "markdown",
   "metadata": {},
   "source": [
    "### Iteration with `for` Loop"
   ]
  },
  {
   "cell_type": "markdown",
   "metadata": {},
   "source": [
    "A `for` loop automatically calls the `iter()` method to obtain an iterator object and then calls the `next()` method to get each value from the iterator sequence.\n",
    "\n",
    "Let's create a `list` and iterate over it with a `for` loop:"
   ]
  },
  {
   "cell_type": "code",
   "execution_count": null,
   "metadata": {},
   "outputs": [],
   "source": [
    "# Create a list\n",
    "my_list = [1, 2, 3, 4, 5]\n",
    "\n",
    "# Iterate over the list with a for loop\n",
    "for element in my_list:\n",
    "    print(element)"
   ]
  },
  {
   "cell_type": "markdown",
   "metadata": {},
   "source": [
    "Create a `dictionary` and iterate over its `keys` and `values` with a `for` loop:"
   ]
  },
  {
   "cell_type": "code",
   "execution_count": null,
   "metadata": {},
   "outputs": [],
   "source": [
    "# Create a dictionary\n",
    "my_dict = {\"A\": 1, \"B\": 2, \"C\": 3}\n",
    "\n",
    "# Iterate over the dictionary keys and values with a for loop\n",
    "for key, value in my_dict.items():\n",
    "    print(key, value)"
   ]
  },
  {
   "cell_type": "markdown",
   "metadata": {},
   "source": [
    "Create a `string` and iterate over its `characters` with a `for` loop:"
   ]
  },
  {
   "cell_type": "code",
   "execution_count": null,
   "metadata": {},
   "outputs": [],
   "source": [
    "# Create a string\n",
    "sentence = \"Hello, world!\"\n",
    "\n",
    "# Iterate over the characters of the string with a for loop\n",
    "for number in sentence:\n",
    "    print(number)"
   ]
  },
  {
   "cell_type": "markdown",
   "metadata": {},
   "source": [
    "As you can see, the `for` loop is a convenient way to iterate over the elements of an iterator because it automatically calls the `iter()` and `next()` methods."
   ]
  },
  {
   "cell_type": "markdown",
   "metadata": {},
   "source": [
    "# `Quick Assignment 2: Iterator with \"for\" Loop`\n",
    "\n",
    "1. Create a `dictionary` of programming languages and their popularity.\n",
    "1. Iterate over the `dictionary` using a `for` loop and `print` each language and its popularity."
   ]
  },
  {
   "cell_type": "code",
   "execution_count": 23,
   "metadata": {},
   "outputs": [
    {
     "name": "stdout",
     "output_type": "stream",
     "text": [
      "Java unpopular\n",
      "Python conventional\n",
      "C++ superb\n"
     ]
    }
   ],
   "source": [
    "programming_languages = {'Java':'unpopular', \n",
    "                         'Python':'conventional',\n",
    "                         'C++':'superb'\n",
    "                        }\n",
    "\n",
    "item_list = programming_languages.items()\n",
    "\n",
    "iter_prog_langs = iter(item_list)\n",
    "for lang, popularity in iter_prog_langs:\n",
    "    print(lang, popularity)"
   ]
  },
  {
   "cell_type": "markdown",
   "metadata": {},
   "source": [
    "### Iteration with `while` Loop\n",
    "\n",
    "The `while` loop uses the `next()` method to get each value from the iterator sequence and then processes the values until a `StopIteration` exception is raised.\n",
    "\n",
    "Let's create a `list` and iterate over it with a `while` loop:"
   ]
  },
  {
   "cell_type": "code",
   "execution_count": null,
   "metadata": {},
   "outputs": [],
   "source": [
    "# Create a list\n",
    "my_list = [1, 2, 3, 4, 5]\n",
    "\n",
    "# Create an iterator object\n",
    "my_iterator = iter(my_list)\n",
    "\n",
    "# Iterate over the iterator elements with a while loop\n",
    "while True:\n",
    "    try:\n",
    "        element = next(my_iterator)\n",
    "        print(element)\n",
    "    except StopIteration:\n",
    "        break"
   ]
  },
  {
   "cell_type": "markdown",
   "metadata": {},
   "source": [
    "Create a `dictionary` and iterate over its `keys` and `values` with a `while` loop:"
   ]
  },
  {
   "cell_type": "code",
   "execution_count": null,
   "metadata": {},
   "outputs": [],
   "source": [
    "# Create a dictionary\n",
    "my_dict = {\"A\": 1, \"B\": 2, \"C\": 3}\n",
    "\n",
    "# Create an iterator object\n",
    "my_iterator = iter(my_dict.items())\n",
    "\n",
    "# Iterate over the iterator elements with a while loop\n",
    "while True:\n",
    "    try:\n",
    "        key, value = next(my_iterator)\n",
    "        print(key, value)\n",
    "    except StopIteration:\n",
    "        break"
   ]
  },
  {
   "cell_type": "markdown",
   "metadata": {},
   "source": [
    "Create a `string` and iterate over its `characters` with a `while` loop:"
   ]
  },
  {
   "cell_type": "code",
   "execution_count": null,
   "metadata": {},
   "outputs": [],
   "source": [
    "# Create a string\n",
    "sentence = \"Hello, world!\"\n",
    "\n",
    "# Create an iterator object\n",
    "sentence_iterator = iter(sentence)\n",
    "\n",
    "# Iterate over the iterator elements with a while loop\n",
    "while True:\n",
    "    try:\n",
    "        number = next(sentence_iterator)\n",
    "        print(number)\n",
    "    except StopIteration:\n",
    "        break"
   ]
  },
  {
   "cell_type": "markdown",
   "metadata": {},
   "source": [
    "# `Quick Assignment 3: Iterator with \"while\" Loop`\n",
    "\n",
    "1. Create a `set` of your favorite colors.\n",
    "1. Create an iterator `object` for the set.\n",
    "1. Iterate over the iterator using a `while` loop and `print` each color."
   ]
  },
  {
   "cell_type": "code",
   "execution_count": 25,
   "metadata": {},
   "outputs": [
    {
     "name": "stdout",
     "output_type": "stream",
     "text": [
      "Red\n",
      "Blue\n",
      "Green\n"
     ]
    }
   ],
   "source": [
    "color_set = ['Red', 'Blue', 'Green']\n",
    "\n",
    "iterator_object = iter(color_set)\n",
    "\n",
    "while True:\n",
    "    try:\n",
    "        color = next(iterator_object)\n",
    "        print(color)\n",
    "    except StopIteration:\n",
    "        break"
   ]
  },
  {
   "cell_type": "markdown",
   "metadata": {},
   "source": [
    "## Generators\n",
    "\n",
    "- `Generators` are special Python objects that allow more efficient iterations."
   ]
  },
  {
   "cell_type": "markdown",
   "metadata": {},
   "source": [
    "### Generator Function with yield\n",
    "\n",
    "Generator functions are functions that use the `yield` statement instead of `return`. \n",
    "\n",
    "`yield` allows the function to return a value and freeze its execution until it is called again.\n",
    "\n",
    "**Example**:"
   ]
  },
  {
   "cell_type": "code",
   "execution_count": null,
   "metadata": {},
   "outputs": [],
   "source": [
    "def numbers_up_to_n(n):\n",
    "    i = 0\n",
    "    while i < n:\n",
    "        yield i\n",
    "        i += 1\n",
    "\n",
    "# Create a generator that generates numbers from 0 to 9\n",
    "generator = numbers_up_to_n(10)\n",
    "\n",
    "for number in generator:\n",
    "    print(number)"
   ]
  },
  {
   "cell_type": "markdown",
   "metadata": {},
   "source": [
    "# `Quick Assignment 4: Basic Generator Function`\n",
    "\n",
    "1. Write a generator function that `yields` square numbers up to 5.\n",
    "1. Create a generator `object` using the function.\n",
    "Iterate `over` the generator and `print` each square number."
   ]
  },
  {
   "cell_type": "code",
   "execution_count": 8,
   "metadata": {},
   "outputs": [
    {
     "name": "stdout",
     "output_type": "stream",
     "text": [
      "<generator object square_up_to_5 at 0x000001D464456A40>\n",
      "1\n",
      "4\n",
      "9\n",
      "16\n",
      "25\n"
     ]
    }
   ],
   "source": [
    "def square_up_to_5(n):\n",
    "    i = 1\n",
    "    while i <= n:\n",
    "        yield i ** 2\n",
    "        i += 1\n",
    "\n",
    "generator = square_up_to_5(5)\n",
    "print(generator)\n",
    "\n",
    "for number in generator:\n",
    "    print(number)\n"
   ]
  },
  {
   "cell_type": "markdown",
   "metadata": {},
   "source": [
    "### Generator with `next()`\n",
    "\n",
    "**Example**:"
   ]
  },
  {
   "cell_type": "code",
   "execution_count": null,
   "metadata": {},
   "outputs": [],
   "source": [
    "def numbers_up_to_n(n):\n",
    "    i = 0\n",
    "    while i < n:\n",
    "        yield i\n",
    "        i += 1\n",
    "\n",
    "generator = numbers_up_to_n(3)\n",
    "\n",
    "print(next(generator))  # 0\n",
    "print(next(generator))  # 1\n",
    "print(next(generator))  # 2\n",
    "print(next(generator))  # Raises StopIteration error"
   ]
  },
  {
   "cell_type": "markdown",
   "metadata": {},
   "source": [
    "- The `next()` function allows getting the next element from the generator. \n",
    "- If the generator has finished generating all values, `next()` will raise a `StopIteration` error."
   ]
  },
  {
   "cell_type": "markdown",
   "metadata": {},
   "source": [
    "# `Quick Assignment 5: Generator with \"next()\"`\n",
    "\n",
    "1. Write a generator function that `yields` even numbers up to 8.\n",
    "1. Create a generator `object` using the function.\n",
    "1. Use the `next()` function to `print` the first three even numbers."
   ]
  },
  {
   "cell_type": "code",
   "execution_count": 17,
   "metadata": {},
   "outputs": [
    {
     "name": "stdout",
     "output_type": "stream",
     "text": [
      "<generator object even_numbers_up_to at 0x000001D464457880>\n",
      "2\n",
      "4\n",
      "6\n"
     ]
    }
   ],
   "source": [
    "def even_numbers_up_to(n):\n",
    "    i = 1\n",
    "    while i <= n:\n",
    "        if i % 2 == 0:\n",
    "            yield i\n",
    "        i += 1  \n",
    "\n",
    "generator = even_numbers_up_to(8)\n",
    "print(generator)\n",
    "print(next(generator))\n",
    "print(next(generator))\n",
    "print(next(generator))\n"
   ]
  },
  {
   "cell_type": "markdown",
   "metadata": {},
   "source": [
    "### Generator Declaration with `()`\n",
    "\n",
    "You can declare a generator using a generator expression, similar to a list comprehension but using `()` instead of `[]`.\n",
    "\n",
    "**Example**:"
   ]
  },
  {
   "cell_type": "code",
   "execution_count": null,
   "metadata": {},
   "outputs": [],
   "source": [
    "numbers = (x for x in range(10))\n",
    "\n",
    "for number in numbers:\n",
    "    print(number)"
   ]
  },
  {
   "cell_type": "markdown",
   "metadata": {},
   "source": [
    "# `Quick Assignment 6: Generator Declaration`\n",
    "\n",
    "1. Create a generator `expression` that generates cube numbers up to 4.\n",
    "1. Iterate `over` the generator and `print` each cube number."
   ]
  },
  {
   "cell_type": "code",
   "execution_count": 19,
   "metadata": {},
   "outputs": [
    {
     "name": "stdout",
     "output_type": "stream",
     "text": [
      "0\n",
      "1\n",
      "8\n",
      "27\n"
     ]
    }
   ],
   "source": [
    "generator = (x**3  for x in range(4))\n",
    "\n",
    "# Create an iterator object\n",
    "generator_iterator = iter(generator)\n",
    "\n",
    "# Iterate over the iterator elements with a while loop\n",
    "while True:\n",
    "    try:\n",
    "        number = next(generator_iterator)\n",
    "        print(number)\n",
    "    except StopIteration:\n",
    "        break\n",
    "    "
   ]
  },
  {
   "cell_type": "markdown",
   "metadata": {},
   "source": [
    "# `Bonus Assignment: Custom Iterator`\n",
    "\n",
    "1. Create a class named `MyRange` that acts as a custom iterator for a range of numbers.\n",
    "1. Implement the `__iter__` and `__next__` methods in the class.\n",
    "1. Use your `custom` iterator to iterate over a range of numbers and `print` each value."
   ]
  },
  {
   "cell_type": "code",
   "execution_count": 21,
   "metadata": {},
   "outputs": [
    {
     "name": "stdout",
     "output_type": "stream",
     "text": [
      "2\n",
      "3\n",
      "4\n",
      "5\n",
      "6\n",
      "7\n",
      "8\n",
      "9\n",
      "10\n",
      "11\n"
     ]
    }
   ],
   "source": [
    "class MyRange:\n",
    "    def __init__(self, start:int, end:int):\n",
    "        self.start = start\n",
    "        self.end = end\n",
    "    \n",
    "    def __iter__(self):\n",
    "        return self\n",
    "\n",
    "    def __next__(self):\n",
    "        if self.start < self.end:\n",
    "            result = self.start\n",
    "            self.start += 1\n",
    "            return result\n",
    "        else:\n",
    "            raise StopIteration\n",
    "\n",
    "\n",
    "custom_range = MyRange(2, 12)\n",
    "for num in custom_range:\n",
    "    print(num)\n",
    "        \n",
    "\n"
   ]
  }
 ],
 "metadata": {
  "kernelspec": {
   "display_name": "venv",
   "language": "python",
   "name": "venv"
  },
  "language_info": {
   "codemirror_mode": {
    "name": "ipython",
    "version": 3
   },
   "file_extension": ".py",
   "mimetype": "text/x-python",
   "name": "python",
   "nbconvert_exporter": "python",
   "pygments_lexer": "ipython3",
   "version": "3.12.1"
  }
 },
 "nbformat": 4,
 "nbformat_minor": 2
}
